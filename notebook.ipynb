{
 "cells": [
  {
   "cell_type": "code",
   "execution_count": null,
   "metadata": {},
   "outputs": [],
   "source": [
    "# Insert project token here"
   ]
  },
  {
   "cell_type": "markdown",
   "metadata": {
    "collapsed": true
   },
   "source": [
    "# MARATONA BEHIND THE CODE 2020\n",
    "\n",
    "## DESAFIO 7 - BanCoppel"
   ]
  },
  {
   "cell_type": "markdown",
   "metadata": {},
   "source": [
    "<hr>"
   ]
  },
  {
   "cell_type": "markdown",
   "metadata": {},
   "source": [
    "## Instalando Librerias"
   ]
  },
  {
   "cell_type": "code",
   "execution_count": null,
   "metadata": {},
   "outputs": [],
   "source": [
    "!pip install scikit-learn --upgrade"
   ]
  },
  {
   "cell_type": "code",
   "execution_count": null,
   "metadata": {},
   "outputs": [],
   "source": [
    "!pip install xgboost --upgrade"
   ]
  },
  {
   "cell_type": "code",
   "execution_count": null,
   "metadata": {},
   "outputs": [],
   "source": [
    "!pip install imblearn --upgrade"
   ]
  },
  {
   "cell_type": "markdown",
   "metadata": {},
   "source": [
    "<hr>"
   ]
  },
  {
   "cell_type": "markdown",
   "metadata": {},
   "source": [
    "## Descargar los conjuntos de datos en formato .csv"
   ]
  },
  {
   "cell_type": "code",
   "execution_count": 581,
   "metadata": {},
   "outputs": [],
   "source": [
    "import pandas as pd"
   ]
  },
  {
   "cell_type": "code",
   "execution_count": 648,
   "metadata": {},
   "outputs": [
    {
     "data": {
      "text/html": [
       "<div>\n",
       "<style scoped>\n",
       "    .dataframe tbody tr th:only-of-type {\n",
       "        vertical-align: middle;\n",
       "    }\n",
       "\n",
       "    .dataframe tbody tr th {\n",
       "        vertical-align: top;\n",
       "    }\n",
       "\n",
       "    .dataframe thead th {\n",
       "        text-align: right;\n",
       "    }\n",
       "</style>\n",
       "<table border=\"1\" class=\"dataframe\">\n",
       "  <thead>\n",
       "    <tr style=\"text-align: right;\">\n",
       "      <th></th>\n",
       "      <th>ID</th>\n",
       "      <th>Genero</th>\n",
       "      <th>Años</th>\n",
       "      <th>Estado_civil</th>\n",
       "      <th>Trabajo</th>\n",
       "      <th>Sector</th>\n",
       "      <th>Telefono</th>\n",
       "      <th>Anos_usando_internet_banking</th>\n",
       "      <th>Anos_usando_banca_movil</th>\n",
       "      <th>Banca_movil_userfriendly</th>\n",
       "      <th>Frecuencia_internet_banking_mes</th>\n",
       "      <th>Frecuencia_banca_movil_mes</th>\n",
       "      <th>Frecuencia_pagamentos_tarjeta_mes</th>\n",
       "      <th>Frecuencia_tarjeta_virtual_mes</th>\n",
       "      <th>Frecuencia_saldo_cuenta_mes</th>\n",
       "      <th>TARGET</th>\n",
       "    </tr>\n",
       "  </thead>\n",
       "  <tbody>\n",
       "    <tr>\n",
       "      <th>23994</th>\n",
       "      <td>160</td>\n",
       "      <td>F</td>\n",
       "      <td>40.0</td>\n",
       "      <td>Soltero</td>\n",
       "      <td>Profesor</td>\n",
       "      <td>Sector privado</td>\n",
       "      <td>Iphone 6+</td>\n",
       "      <td>10.0</td>\n",
       "      <td>3.0</td>\n",
       "      <td>Si</td>\n",
       "      <td>31.0</td>\n",
       "      <td>0.0</td>\n",
       "      <td>0.0</td>\n",
       "      <td>0.0</td>\n",
       "      <td>31.0</td>\n",
       "      <td>Perfil_3</td>\n",
       "    </tr>\n",
       "    <tr>\n",
       "      <th>23995</th>\n",
       "      <td>155</td>\n",
       "      <td>F</td>\n",
       "      <td>24.0</td>\n",
       "      <td>NaN</td>\n",
       "      <td>Profesor</td>\n",
       "      <td>Institucion publica</td>\n",
       "      <td>L G</td>\n",
       "      <td>15.0</td>\n",
       "      <td>6.0</td>\n",
       "      <td>Si</td>\n",
       "      <td>30.0</td>\n",
       "      <td>30.0</td>\n",
       "      <td>31.0</td>\n",
       "      <td>30.0</td>\n",
       "      <td>7.0</td>\n",
       "      <td>Perfil_0</td>\n",
       "    </tr>\n",
       "    <tr>\n",
       "      <th>23996</th>\n",
       "      <td>229</td>\n",
       "      <td>F</td>\n",
       "      <td>24.0</td>\n",
       "      <td>Casado</td>\n",
       "      <td>Profesor</td>\n",
       "      <td>Desempleados</td>\n",
       "      <td>LG V10</td>\n",
       "      <td>5.0</td>\n",
       "      <td>3.0</td>\n",
       "      <td>Si</td>\n",
       "      <td>0.0</td>\n",
       "      <td>30.0</td>\n",
       "      <td>1.0</td>\n",
       "      <td>0.0</td>\n",
       "      <td>0.0</td>\n",
       "      <td>Perfil_4</td>\n",
       "    </tr>\n",
       "    <tr>\n",
       "      <th>23997</th>\n",
       "      <td>214</td>\n",
       "      <td>F</td>\n",
       "      <td>24.0</td>\n",
       "      <td>Soltero</td>\n",
       "      <td>Desempleados</td>\n",
       "      <td>Desempleados</td>\n",
       "      <td>Android</td>\n",
       "      <td>5.0</td>\n",
       "      <td>6.0</td>\n",
       "      <td>No</td>\n",
       "      <td>7.0</td>\n",
       "      <td>0.0</td>\n",
       "      <td>1.0</td>\n",
       "      <td>1.0</td>\n",
       "      <td>0.0</td>\n",
       "      <td>Perfil_4</td>\n",
       "    </tr>\n",
       "    <tr>\n",
       "      <th>23998</th>\n",
       "      <td>30</td>\n",
       "      <td>M</td>\n",
       "      <td>30.0</td>\n",
       "      <td>Casado</td>\n",
       "      <td>Servidor publico</td>\n",
       "      <td>Institucion publica</td>\n",
       "      <td>0</td>\n",
       "      <td>5.0</td>\n",
       "      <td>4.0</td>\n",
       "      <td>No</td>\n",
       "      <td>31.0</td>\n",
       "      <td>31.0</td>\n",
       "      <td>0.0</td>\n",
       "      <td>0.0</td>\n",
       "      <td>0.0</td>\n",
       "      <td>Perfil_3</td>\n",
       "    </tr>\n",
       "  </tbody>\n",
       "</table>\n",
       "</div>"
      ],
      "text/plain": [
       "        ID Genero  Años Estado_civil           Trabajo               Sector  \\\n",
       "23994  160      F  40.0      Soltero          Profesor       Sector privado   \n",
       "23995  155      F  24.0          NaN          Profesor  Institucion publica   \n",
       "23996  229      F  24.0       Casado          Profesor         Desempleados   \n",
       "23997  214      F  24.0      Soltero      Desempleados         Desempleados   \n",
       "23998   30      M  30.0       Casado  Servidor publico  Institucion publica   \n",
       "\n",
       "        Telefono  Anos_usando_internet_banking  Anos_usando_banca_movil  \\\n",
       "23994  Iphone 6+                          10.0                      3.0   \n",
       "23995        L G                          15.0                      6.0   \n",
       "23996     LG V10                           5.0                      3.0   \n",
       "23997    Android                           5.0                      6.0   \n",
       "23998          0                           5.0                      4.0   \n",
       "\n",
       "      Banca_movil_userfriendly  Frecuencia_internet_banking_mes  \\\n",
       "23994                       Si                             31.0   \n",
       "23995                       Si                             30.0   \n",
       "23996                       Si                              0.0   \n",
       "23997                       No                              7.0   \n",
       "23998                       No                             31.0   \n",
       "\n",
       "       Frecuencia_banca_movil_mes  Frecuencia_pagamentos_tarjeta_mes  \\\n",
       "23994                         0.0                                0.0   \n",
       "23995                        30.0                               31.0   \n",
       "23996                        30.0                                1.0   \n",
       "23997                         0.0                                1.0   \n",
       "23998                        31.0                                0.0   \n",
       "\n",
       "       Frecuencia_tarjeta_virtual_mes  Frecuencia_saldo_cuenta_mes    TARGET  \n",
       "23994                             0.0                         31.0  Perfil_3  \n",
       "23995                            30.0                          7.0  Perfil_0  \n",
       "23996                             0.0                          0.0  Perfil_4  \n",
       "23997                             1.0                          0.0  Perfil_4  \n",
       "23998                             0.0                          0.0  Perfil_3  "
      ]
     },
     "execution_count": 648,
     "metadata": {},
     "output_type": "execute_result"
    }
   ],
   "source": [
    "#!wget --no-check-certificate --content-disposition https://gitlab.com/JoaoPedroPP/datasets/-/raw/master/training_dataset.csv\n",
    "df_training_dataset = pd.read_csv(r'training_dataset.csv')\n",
    "df_training_dataset.tail()"
   ]
  },
  {
   "cell_type": "code",
   "execution_count": 649,
   "metadata": {},
   "outputs": [
    {
     "data": {
      "text/html": [
       "<div>\n",
       "<style scoped>\n",
       "    .dataframe tbody tr th:only-of-type {\n",
       "        vertical-align: middle;\n",
       "    }\n",
       "\n",
       "    .dataframe tbody tr th {\n",
       "        vertical-align: top;\n",
       "    }\n",
       "\n",
       "    .dataframe thead th {\n",
       "        text-align: right;\n",
       "    }\n",
       "</style>\n",
       "<table border=\"1\" class=\"dataframe\">\n",
       "  <thead>\n",
       "    <tr style=\"text-align: right;\">\n",
       "      <th></th>\n",
       "      <th>ID</th>\n",
       "      <th>Genero</th>\n",
       "      <th>Años</th>\n",
       "      <th>Estado_civil</th>\n",
       "      <th>Trabajo</th>\n",
       "      <th>Sector</th>\n",
       "      <th>Telefono</th>\n",
       "      <th>Anos_usando_internet_banking</th>\n",
       "      <th>Anos_usando_banca_movil</th>\n",
       "      <th>Banca_movil_userfriendly</th>\n",
       "      <th>Frecuencia_internet_banking_mes</th>\n",
       "      <th>Frecuencia_banca_movil_mes</th>\n",
       "      <th>Frecuencia_pagamentos_tarjeta_mes</th>\n",
       "      <th>Frecuencia_tarjeta_virtual_mes</th>\n",
       "      <th>Frecuencia_saldo_cuenta_mes</th>\n",
       "      <th>TARGET</th>\n",
       "    </tr>\n",
       "  </thead>\n",
       "  <tbody>\n",
       "    <tr>\n",
       "      <th>6</th>\n",
       "      <td>160</td>\n",
       "      <td>M</td>\n",
       "      <td>50.0</td>\n",
       "      <td>Casado</td>\n",
       "      <td>Ingeniero de informacion</td>\n",
       "      <td>Institucion publica</td>\n",
       "      <td>General Mobile</td>\n",
       "      <td>5.0</td>\n",
       "      <td>3.0</td>\n",
       "      <td>Si</td>\n",
       "      <td>1.0</td>\n",
       "      <td>30.0</td>\n",
       "      <td>0.0</td>\n",
       "      <td>0.0</td>\n",
       "      <td>0.0</td>\n",
       "      <td>Perfil_4</td>\n",
       "    </tr>\n",
       "    <tr>\n",
       "      <th>612</th>\n",
       "      <td>160</td>\n",
       "      <td>M</td>\n",
       "      <td>30.0</td>\n",
       "      <td>Casado</td>\n",
       "      <td>Ingeniero biomedico</td>\n",
       "      <td>Institucion publica</td>\n",
       "      <td>Iphone</td>\n",
       "      <td>5.0</td>\n",
       "      <td>7.0</td>\n",
       "      <td>No</td>\n",
       "      <td>7.0</td>\n",
       "      <td>7.0</td>\n",
       "      <td>0.0</td>\n",
       "      <td>15.0</td>\n",
       "      <td>0.0</td>\n",
       "      <td>Perfil_4</td>\n",
       "    </tr>\n",
       "    <tr>\n",
       "      <th>622</th>\n",
       "      <td>160</td>\n",
       "      <td>F</td>\n",
       "      <td>40.0</td>\n",
       "      <td>Casado</td>\n",
       "      <td>Ingeniero de informacion</td>\n",
       "      <td>Institucion publica</td>\n",
       "      <td>Iphone 5S</td>\n",
       "      <td>15.0</td>\n",
       "      <td>3.0</td>\n",
       "      <td>Si</td>\n",
       "      <td>31.0</td>\n",
       "      <td>50.0</td>\n",
       "      <td>1.0</td>\n",
       "      <td>15.0</td>\n",
       "      <td>31.0</td>\n",
       "      <td>Perfil_0</td>\n",
       "    </tr>\n",
       "    <tr>\n",
       "      <th>935</th>\n",
       "      <td>160</td>\n",
       "      <td>M</td>\n",
       "      <td>50.0</td>\n",
       "      <td>Casado</td>\n",
       "      <td>Desempleados</td>\n",
       "      <td>Sector privado</td>\n",
       "      <td>Samsung</td>\n",
       "      <td>5.0</td>\n",
       "      <td>6.0</td>\n",
       "      <td>Si</td>\n",
       "      <td>4.0</td>\n",
       "      <td>0.0</td>\n",
       "      <td>1.0</td>\n",
       "      <td>0.0</td>\n",
       "      <td>4.0</td>\n",
       "      <td>Perfil_4</td>\n",
       "    </tr>\n",
       "    <tr>\n",
       "      <th>1060</th>\n",
       "      <td>160</td>\n",
       "      <td>F</td>\n",
       "      <td>30.0</td>\n",
       "      <td>Soltero</td>\n",
       "      <td>Desempleados</td>\n",
       "      <td>Sector privado</td>\n",
       "      <td>ASUS</td>\n",
       "      <td>5.0</td>\n",
       "      <td>3.0</td>\n",
       "      <td>Si</td>\n",
       "      <td>7.0</td>\n",
       "      <td>7.0</td>\n",
       "      <td>1.0</td>\n",
       "      <td>0.0</td>\n",
       "      <td>15.0</td>\n",
       "      <td>Perfil_4</td>\n",
       "    </tr>\n",
       "    <tr>\n",
       "      <th>...</th>\n",
       "      <td>...</td>\n",
       "      <td>...</td>\n",
       "      <td>...</td>\n",
       "      <td>...</td>\n",
       "      <td>...</td>\n",
       "      <td>...</td>\n",
       "      <td>...</td>\n",
       "      <td>...</td>\n",
       "      <td>...</td>\n",
       "      <td>...</td>\n",
       "      <td>...</td>\n",
       "      <td>...</td>\n",
       "      <td>...</td>\n",
       "      <td>...</td>\n",
       "      <td>...</td>\n",
       "      <td>...</td>\n",
       "    </tr>\n",
       "    <tr>\n",
       "      <th>23122</th>\n",
       "      <td>160</td>\n",
       "      <td>M</td>\n",
       "      <td>35.0</td>\n",
       "      <td>Soltero</td>\n",
       "      <td>Ingeniero</td>\n",
       "      <td>Institucion publica</td>\n",
       "      <td>Samsung S3</td>\n",
       "      <td>0.0</td>\n",
       "      <td>4.0</td>\n",
       "      <td>No</td>\n",
       "      <td>0.0</td>\n",
       "      <td>31.0</td>\n",
       "      <td>1.0</td>\n",
       "      <td>0.0</td>\n",
       "      <td>0.0</td>\n",
       "      <td>Perfil_4</td>\n",
       "    </tr>\n",
       "    <tr>\n",
       "      <th>23309</th>\n",
       "      <td>160</td>\n",
       "      <td>F</td>\n",
       "      <td>30.0</td>\n",
       "      <td>Soltero</td>\n",
       "      <td>Ingeniero de informacion</td>\n",
       "      <td>Sector privado</td>\n",
       "      <td>Iphone 5S</td>\n",
       "      <td>5.0</td>\n",
       "      <td>3.0</td>\n",
       "      <td>No</td>\n",
       "      <td>31.0</td>\n",
       "      <td>7.0</td>\n",
       "      <td>1.0</td>\n",
       "      <td>0.0</td>\n",
       "      <td>1.0</td>\n",
       "      <td>Perfil_4</td>\n",
       "    </tr>\n",
       "    <tr>\n",
       "      <th>23764</th>\n",
       "      <td>160</td>\n",
       "      <td>F</td>\n",
       "      <td>35.0</td>\n",
       "      <td>NaN</td>\n",
       "      <td>Ingeniero de informacion</td>\n",
       "      <td>Institucion publica</td>\n",
       "      <td>NaN</td>\n",
       "      <td>5.0</td>\n",
       "      <td>3.0</td>\n",
       "      <td>Si</td>\n",
       "      <td>31.0</td>\n",
       "      <td>4.0</td>\n",
       "      <td>1.0</td>\n",
       "      <td>0.0</td>\n",
       "      <td>NaN</td>\n",
       "      <td>Perfil_5</td>\n",
       "    </tr>\n",
       "    <tr>\n",
       "      <th>23925</th>\n",
       "      <td>160</td>\n",
       "      <td>F</td>\n",
       "      <td>30.0</td>\n",
       "      <td>Casado</td>\n",
       "      <td>Desempleados</td>\n",
       "      <td>Sector privado</td>\n",
       "      <td>Xperia</td>\n",
       "      <td>0.0</td>\n",
       "      <td>3.0</td>\n",
       "      <td>Si</td>\n",
       "      <td>NaN</td>\n",
       "      <td>31.0</td>\n",
       "      <td>0.0</td>\n",
       "      <td>0.0</td>\n",
       "      <td>15.0</td>\n",
       "      <td>Perfil_5</td>\n",
       "    </tr>\n",
       "    <tr>\n",
       "      <th>23994</th>\n",
       "      <td>160</td>\n",
       "      <td>F</td>\n",
       "      <td>40.0</td>\n",
       "      <td>Soltero</td>\n",
       "      <td>Profesor</td>\n",
       "      <td>Sector privado</td>\n",
       "      <td>Iphone 6+</td>\n",
       "      <td>10.0</td>\n",
       "      <td>3.0</td>\n",
       "      <td>Si</td>\n",
       "      <td>31.0</td>\n",
       "      <td>0.0</td>\n",
       "      <td>0.0</td>\n",
       "      <td>0.0</td>\n",
       "      <td>31.0</td>\n",
       "      <td>Perfil_3</td>\n",
       "    </tr>\n",
       "  </tbody>\n",
       "</table>\n",
       "<p>113 rows × 16 columns</p>\n",
       "</div>"
      ],
      "text/plain": [
       "        ID Genero  Años Estado_civil                   Trabajo  \\\n",
       "6      160      M  50.0       Casado  Ingeniero de informacion   \n",
       "612    160      M  30.0       Casado       Ingeniero biomedico   \n",
       "622    160      F  40.0       Casado  Ingeniero de informacion   \n",
       "935    160      M  50.0       Casado              Desempleados   \n",
       "1060   160      F  30.0      Soltero              Desempleados   \n",
       "...    ...    ...   ...          ...                       ...   \n",
       "23122  160      M  35.0      Soltero                 Ingeniero   \n",
       "23309  160      F  30.0      Soltero  Ingeniero de informacion   \n",
       "23764  160      F  35.0          NaN  Ingeniero de informacion   \n",
       "23925  160      F  30.0       Casado              Desempleados   \n",
       "23994  160      F  40.0      Soltero                  Profesor   \n",
       "\n",
       "                    Sector        Telefono  Anos_usando_internet_banking  \\\n",
       "6      Institucion publica  General Mobile                           5.0   \n",
       "612    Institucion publica         Iphone                            5.0   \n",
       "622    Institucion publica       Iphone 5S                          15.0   \n",
       "935         Sector privado         Samsung                           5.0   \n",
       "1060        Sector privado            ASUS                           5.0   \n",
       "...                    ...             ...                           ...   \n",
       "23122  Institucion publica      Samsung S3                           0.0   \n",
       "23309       Sector privado       Iphone 5S                           5.0   \n",
       "23764  Institucion publica             NaN                           5.0   \n",
       "23925       Sector privado          Xperia                           0.0   \n",
       "23994       Sector privado       Iphone 6+                          10.0   \n",
       "\n",
       "       Anos_usando_banca_movil Banca_movil_userfriendly  \\\n",
       "6                          3.0                       Si   \n",
       "612                        7.0                       No   \n",
       "622                        3.0                       Si   \n",
       "935                        6.0                       Si   \n",
       "1060                       3.0                       Si   \n",
       "...                        ...                      ...   \n",
       "23122                      4.0                       No   \n",
       "23309                      3.0                       No   \n",
       "23764                      3.0                       Si   \n",
       "23925                      3.0                       Si   \n",
       "23994                      3.0                       Si   \n",
       "\n",
       "       Frecuencia_internet_banking_mes  Frecuencia_banca_movil_mes  \\\n",
       "6                                  1.0                        30.0   \n",
       "612                                7.0                         7.0   \n",
       "622                               31.0                        50.0   \n",
       "935                                4.0                         0.0   \n",
       "1060                               7.0                         7.0   \n",
       "...                                ...                         ...   \n",
       "23122                              0.0                        31.0   \n",
       "23309                             31.0                         7.0   \n",
       "23764                             31.0                         4.0   \n",
       "23925                              NaN                        31.0   \n",
       "23994                             31.0                         0.0   \n",
       "\n",
       "       Frecuencia_pagamentos_tarjeta_mes  Frecuencia_tarjeta_virtual_mes  \\\n",
       "6                                    0.0                             0.0   \n",
       "612                                  0.0                            15.0   \n",
       "622                                  1.0                            15.0   \n",
       "935                                  1.0                             0.0   \n",
       "1060                                 1.0                             0.0   \n",
       "...                                  ...                             ...   \n",
       "23122                                1.0                             0.0   \n",
       "23309                                1.0                             0.0   \n",
       "23764                                1.0                             0.0   \n",
       "23925                                0.0                             0.0   \n",
       "23994                                0.0                             0.0   \n",
       "\n",
       "       Frecuencia_saldo_cuenta_mes    TARGET  \n",
       "6                              0.0  Perfil_4  \n",
       "612                            0.0  Perfil_4  \n",
       "622                           31.0  Perfil_0  \n",
       "935                            4.0  Perfil_4  \n",
       "1060                          15.0  Perfil_4  \n",
       "...                            ...       ...  \n",
       "23122                          0.0  Perfil_4  \n",
       "23309                          1.0  Perfil_4  \n",
       "23764                          NaN  Perfil_5  \n",
       "23925                         15.0  Perfil_5  \n",
       "23994                         31.0  Perfil_3  \n",
       "\n",
       "[113 rows x 16 columns]"
      ]
     },
     "execution_count": 649,
     "metadata": {},
     "output_type": "execute_result"
    }
   ],
   "source": [
    "df_training_dataset[df_training_dataset['ID']==160]"
   ]
  },
  {
   "cell_type": "markdown",
   "metadata": {},
   "source": [
    "Sobre el archivo \"training_dataset.csv\", temos alguna información sobre los usuarios de la app de BanCoppel:\n",
    "\n",
    "**ID**\n",
    "\n",
    "**Genero**\n",
    "\n",
    "**Idade**\n",
    "\n",
    "**Estado_civil**\n",
    "\n",
    "**Trabajo**\n",
    "\n",
    "**Sector**\n",
    "\n",
    "**Telefono**\n",
    "\n",
    "**Anos_usando_internet_banking**\n",
    "\n",
    "**Anos_usando_banca_movil**\n",
    "\n",
    "**Banca_movil_userfriendly**\n",
    "\n",
    "**Frecuencia_internet_banking_mes**\n",
    "\n",
    "**Frecuencia_banca_movil_mes**\n",
    "\n",
    "**Frecuencia_pagamentos_tarjeta_mes**\n",
    "\n",
    "**Frecuencia_tarjeta_virtual_mes**\n",
    "\n",
    "**Frecuencia_saldo_cuenta_mes**\n",
    "\n",
    "**TARGET**"
   ]
  },
  {
   "cell_type": "code",
   "execution_count": 650,
   "metadata": {},
   "outputs": [
    {
     "name": "stdout",
     "output_type": "stream",
     "text": [
      "<class 'pandas.core.frame.DataFrame'>\n",
      "RangeIndex: 23999 entries, 0 to 23998\n",
      "Data columns (total 16 columns):\n",
      " #   Column                             Non-Null Count  Dtype  \n",
      "---  ------                             --------------  -----  \n",
      " 0   ID                                 23999 non-null  int64  \n",
      " 1   Genero                             23110 non-null  object \n",
      " 2   Años                               23731 non-null  float64\n",
      " 3   Estado_civil                       23295 non-null  object \n",
      " 4   Trabajo                            21044 non-null  object \n",
      " 5   Sector                             23640 non-null  object \n",
      " 6   Telefono                           22578 non-null  object \n",
      " 7   Anos_usando_internet_banking       23355 non-null  float64\n",
      " 8   Anos_usando_banca_movil            22698 non-null  float64\n",
      " 9   Banca_movil_userfriendly           23999 non-null  object \n",
      " 10  Frecuencia_internet_banking_mes    21275 non-null  float64\n",
      " 11  Frecuencia_banca_movil_mes         22728 non-null  float64\n",
      " 12  Frecuencia_pagamentos_tarjeta_mes  23714 non-null  float64\n",
      " 13  Frecuencia_tarjeta_virtual_mes     23524 non-null  float64\n",
      " 14  Frecuencia_saldo_cuenta_mes        23429 non-null  float64\n",
      " 15  TARGET                             23999 non-null  object \n",
      "dtypes: float64(8), int64(1), object(7)\n",
      "memory usage: 2.9+ MB\n"
     ]
    }
   ],
   "source": [
    "df_training_dataset.info()"
   ]
  },
  {
   "cell_type": "code",
   "execution_count": 651,
   "metadata": {},
   "outputs": [
    {
     "data": {
      "text/plain": [
       "ID                                   250\n",
       "Genero                                 3\n",
       "Años                                   6\n",
       "Estado_civil                           2\n",
       "Trabajo                               31\n",
       "Sector                                 4\n",
       "Telefono                              73\n",
       "Anos_usando_internet_banking           5\n",
       "Anos_usando_banca_movil                6\n",
       "Banca_movil_userfriendly               2\n",
       "Frecuencia_internet_banking_mes        7\n",
       "Frecuencia_banca_movil_mes             7\n",
       "Frecuencia_pagamentos_tarjeta_mes      7\n",
       "Frecuencia_tarjeta_virtual_mes         7\n",
       "Frecuencia_saldo_cuenta_mes            8\n",
       "TARGET                                 6\n",
       "dtype: int64"
      ]
     },
     "execution_count": 651,
     "metadata": {},
     "output_type": "execute_result"
    }
   ],
   "source": [
    "df_training_dataset.nunique()"
   ]
  },
  {
   "cell_type": "code",
   "execution_count": 652,
   "metadata": {},
   "outputs": [
    {
     "data": {
      "text/plain": [
       "3.0    10967\n",
       "6.0     3995\n",
       "0.0     2822\n",
       "4.0     2733\n",
       "7.0     1785\n",
       "5.0      396\n",
       "Name: Anos_usando_banca_movil, dtype: int64"
      ]
     },
     "execution_count": 652,
     "metadata": {},
     "output_type": "execute_result"
    }
   ],
   "source": [
    "df_training_dataset.Anos_usando_banca_movil.value_counts()"
   ]
  },
  {
   "cell_type": "code",
   "execution_count": 653,
   "metadata": {},
   "outputs": [],
   "source": [
    "for j in df_training_dataset.iloc[:,10:-1].columns:\n",
    "    #df_training_dataset[j]=df_training_dataset[j].replace(50,15)\n",
    "    #df_training_dataset[j]=df_training_dataset[j].replace(35,30)\n",
    "    df_training_dataset[j]=df_training_dataset[j].replace(31,30)\n",
    "    #print(df_training_dataset[j].value_counts())\n"
   ]
  },
  {
   "cell_type": "code",
   "execution_count": 524,
   "metadata": {},
   "outputs": [],
   "source": [
    "for j in df_training_dataset.iloc[:,10:-1].columns:\n",
    "    df_training_dataset[j]=df_training_dataset[j].replace(4,2)\n",
    "    df_training_dataset[j]=df_training_dataset[j].replace(7,3)\n",
    "    df_training_dataset[j]=df_training_dataset[j].replace(15,4)\n",
    "    df_training_dataset[j]=df_training_dataset[j].replace(30,5)\n",
    "    df_training_dataset[j]=df_training_dataset[j].replace(50,7)\n",
    "    df_training_dataset[j]=df_training_dataset[j].replace(35,6)"
   ]
  },
  {
   "cell_type": "code",
   "execution_count": 654,
   "metadata": {},
   "outputs": [],
   "source": [
    "df_training_dataset['Banca_movil_userfriendly']=df_training_dataset['Banca_movil_userfriendly'].replace('Si',1)\n",
    "df_training_dataset['Banca_movil_userfriendly']=df_training_dataset['Banca_movil_userfriendly'].replace('No',0)"
   ]
  },
  {
   "cell_type": "code",
   "execution_count": 655,
   "metadata": {},
   "outputs": [],
   "source": [
    "df_training_dataset['Genero']=df_training_dataset['Genero'].replace('M',0)\n",
    "df_training_dataset['Genero']=df_training_dataset['Genero'].replace('F',1)"
   ]
  },
  {
   "cell_type": "code",
   "execution_count": 656,
   "metadata": {},
   "outputs": [
    {
     "data": {
      "text/plain": [
       "30.0    8546\n",
       "35.0    4145\n",
       "24.0    3728\n",
       "40.0    2669\n",
       "50.0    2399\n",
       "45.0    2244\n",
       "Name: Años, dtype: int64"
      ]
     },
     "execution_count": 656,
     "metadata": {},
     "output_type": "execute_result"
    }
   ],
   "source": [
    "df_training_dataset.Años.value_counts()"
   ]
  },
  {
   "cell_type": "code",
   "execution_count": 657,
   "metadata": {},
   "outputs": [],
   "source": [
    "df_training_dataset['Años']=df_training_dataset['Años'].replace(24,0)\n",
    "df_training_dataset['Años']=df_training_dataset['Años'].replace(30,1)\n",
    "df_training_dataset['Años']=df_training_dataset['Años'].replace(35,2)\n",
    "df_training_dataset['Años']=df_training_dataset['Años'].replace(40,3)\n",
    "df_training_dataset['Años']=df_training_dataset['Años'].replace(45,4)\n",
    "df_training_dataset['Años']=df_training_dataset['Años'].replace(50,5)"
   ]
  },
  {
   "cell_type": "code",
   "execution_count": 658,
   "metadata": {},
   "outputs": [],
   "source": [
    "df_training_dataset['Estado_civil']=df_training_dataset['Estado_civil'].replace('Casado',1)\n",
    "df_training_dataset['Estado_civil']=df_training_dataset['Estado_civil'].replace('Soltero',0)"
   ]
  },
  {
   "cell_type": "code",
   "execution_count": 659,
   "metadata": {},
   "outputs": [
    {
     "data": {
      "text/html": [
       "<div>\n",
       "<style scoped>\n",
       "    .dataframe tbody tr th:only-of-type {\n",
       "        vertical-align: middle;\n",
       "    }\n",
       "\n",
       "    .dataframe tbody tr th {\n",
       "        vertical-align: top;\n",
       "    }\n",
       "\n",
       "    .dataframe thead th {\n",
       "        text-align: right;\n",
       "    }\n",
       "</style>\n",
       "<table border=\"1\" class=\"dataframe\">\n",
       "  <thead>\n",
       "    <tr style=\"text-align: right;\">\n",
       "      <th></th>\n",
       "      <th>ID</th>\n",
       "      <th>Genero</th>\n",
       "      <th>Años</th>\n",
       "      <th>Estado_civil</th>\n",
       "      <th>Trabajo</th>\n",
       "      <th>Sector</th>\n",
       "      <th>Telefono</th>\n",
       "      <th>Anos_usando_internet_banking</th>\n",
       "      <th>Anos_usando_banca_movil</th>\n",
       "      <th>Banca_movil_userfriendly</th>\n",
       "      <th>Frecuencia_internet_banking_mes</th>\n",
       "      <th>Frecuencia_banca_movil_mes</th>\n",
       "      <th>Frecuencia_pagamentos_tarjeta_mes</th>\n",
       "      <th>Frecuencia_tarjeta_virtual_mes</th>\n",
       "      <th>Frecuencia_saldo_cuenta_mes</th>\n",
       "      <th>TARGET</th>\n",
       "    </tr>\n",
       "  </thead>\n",
       "  <tbody>\n",
       "    <tr>\n",
       "      <th>0</th>\n",
       "      <td>159</td>\n",
       "      <td>0</td>\n",
       "      <td>1.0</td>\n",
       "      <td>1.0</td>\n",
       "      <td>Profesor</td>\n",
       "      <td>Institucion publica</td>\n",
       "      <td>Samsung</td>\n",
       "      <td>0.0</td>\n",
       "      <td>6.0</td>\n",
       "      <td>1</td>\n",
       "      <td>50.0</td>\n",
       "      <td>0.0</td>\n",
       "      <td>1.0</td>\n",
       "      <td>0.0</td>\n",
       "      <td>30.0</td>\n",
       "      <td>Perfil_2</td>\n",
       "    </tr>\n",
       "    <tr>\n",
       "      <th>1</th>\n",
       "      <td>86</td>\n",
       "      <td>1</td>\n",
       "      <td>2.0</td>\n",
       "      <td>1.0</td>\n",
       "      <td>Profesor</td>\n",
       "      <td>Institucion publica</td>\n",
       "      <td>Samsung</td>\n",
       "      <td>5.0</td>\n",
       "      <td>3.0</td>\n",
       "      <td>0</td>\n",
       "      <td>30.0</td>\n",
       "      <td>4.0</td>\n",
       "      <td>30.0</td>\n",
       "      <td>0.0</td>\n",
       "      <td>30.0</td>\n",
       "      <td>Perfil_1</td>\n",
       "    </tr>\n",
       "    <tr>\n",
       "      <th>2</th>\n",
       "      <td>83</td>\n",
       "      <td>0</td>\n",
       "      <td>0.0</td>\n",
       "      <td>0.0</td>\n",
       "      <td>Servidor publico</td>\n",
       "      <td>Institucion publica</td>\n",
       "      <td>LeNovo A7000</td>\n",
       "      <td>0.0</td>\n",
       "      <td>3.0</td>\n",
       "      <td>1</td>\n",
       "      <td>50.0</td>\n",
       "      <td>30.0</td>\n",
       "      <td>15.0</td>\n",
       "      <td>1.0</td>\n",
       "      <td>15.0</td>\n",
       "      <td>Perfil_4</td>\n",
       "    </tr>\n",
       "    <tr>\n",
       "      <th>3</th>\n",
       "      <td>214</td>\n",
       "      <td>0</td>\n",
       "      <td>2.0</td>\n",
       "      <td>1.0</td>\n",
       "      <td>Ingeniero de informacion</td>\n",
       "      <td>Institucion publica</td>\n",
       "      <td>Samsung</td>\n",
       "      <td>5.0</td>\n",
       "      <td>3.0</td>\n",
       "      <td>0</td>\n",
       "      <td>30.0</td>\n",
       "      <td>7.0</td>\n",
       "      <td>30.0</td>\n",
       "      <td>0.0</td>\n",
       "      <td>30.0</td>\n",
       "      <td>Perfil_1</td>\n",
       "    </tr>\n",
       "    <tr>\n",
       "      <th>4</th>\n",
       "      <td>31</td>\n",
       "      <td>0</td>\n",
       "      <td>0.0</td>\n",
       "      <td>0.0</td>\n",
       "      <td>Ingeniero</td>\n",
       "      <td>Institucion publica</td>\n",
       "      <td>Samsung  A6</td>\n",
       "      <td>6.0</td>\n",
       "      <td>0.0</td>\n",
       "      <td>0</td>\n",
       "      <td>4.0</td>\n",
       "      <td>NaN</td>\n",
       "      <td>1.0</td>\n",
       "      <td>15.0</td>\n",
       "      <td>1.0</td>\n",
       "      <td>Perfil_3</td>\n",
       "    </tr>\n",
       "  </tbody>\n",
       "</table>\n",
       "</div>"
      ],
      "text/plain": [
       "    ID Genero  Años  Estado_civil                   Trabajo  \\\n",
       "0  159      0   1.0           1.0                  Profesor   \n",
       "1   86      1   2.0           1.0                  Profesor   \n",
       "2   83      0   0.0           0.0          Servidor publico   \n",
       "3  214      0   2.0           1.0  Ingeniero de informacion   \n",
       "4   31      0   0.0           0.0                 Ingeniero   \n",
       "\n",
       "                Sector      Telefono  Anos_usando_internet_banking  \\\n",
       "0  Institucion publica       Samsung                           0.0   \n",
       "1  Institucion publica       Samsung                           5.0   \n",
       "2  Institucion publica  LeNovo A7000                           0.0   \n",
       "3  Institucion publica       Samsung                           5.0   \n",
       "4  Institucion publica   Samsung  A6                           6.0   \n",
       "\n",
       "   Anos_usando_banca_movil  Banca_movil_userfriendly  \\\n",
       "0                      6.0                         1   \n",
       "1                      3.0                         0   \n",
       "2                      3.0                         1   \n",
       "3                      3.0                         0   \n",
       "4                      0.0                         0   \n",
       "\n",
       "   Frecuencia_internet_banking_mes  Frecuencia_banca_movil_mes  \\\n",
       "0                             50.0                         0.0   \n",
       "1                             30.0                         4.0   \n",
       "2                             50.0                        30.0   \n",
       "3                             30.0                         7.0   \n",
       "4                              4.0                         NaN   \n",
       "\n",
       "   Frecuencia_pagamentos_tarjeta_mes  Frecuencia_tarjeta_virtual_mes  \\\n",
       "0                                1.0                             0.0   \n",
       "1                               30.0                             0.0   \n",
       "2                               15.0                             1.0   \n",
       "3                               30.0                             0.0   \n",
       "4                                1.0                            15.0   \n",
       "\n",
       "   Frecuencia_saldo_cuenta_mes    TARGET  \n",
       "0                         30.0  Perfil_2  \n",
       "1                         30.0  Perfil_1  \n",
       "2                         15.0  Perfil_4  \n",
       "3                         30.0  Perfil_1  \n",
       "4                          1.0  Perfil_3  "
      ]
     },
     "execution_count": 659,
     "metadata": {},
     "output_type": "execute_result"
    }
   ],
   "source": [
    "df_training_dataset.head()"
   ]
  },
  {
   "cell_type": "code",
   "execution_count": 660,
   "metadata": {},
   "outputs": [
    {
     "data": {
      "text/html": [
       "<div>\n",
       "<style scoped>\n",
       "    .dataframe tbody tr th:only-of-type {\n",
       "        vertical-align: middle;\n",
       "    }\n",
       "\n",
       "    .dataframe tbody tr th {\n",
       "        vertical-align: top;\n",
       "    }\n",
       "\n",
       "    .dataframe thead th {\n",
       "        text-align: right;\n",
       "    }\n",
       "</style>\n",
       "<table border=\"1\" class=\"dataframe\">\n",
       "  <thead>\n",
       "    <tr style=\"text-align: right;\">\n",
       "      <th></th>\n",
       "      <th>ID</th>\n",
       "      <th>Genero</th>\n",
       "      <th>Años</th>\n",
       "      <th>Estado_civil</th>\n",
       "      <th>Trabajo</th>\n",
       "      <th>Sector</th>\n",
       "      <th>Telefono</th>\n",
       "      <th>Anos_usando_internet_banking</th>\n",
       "      <th>Anos_usando_banca_movil</th>\n",
       "      <th>Banca_movil_userfriendly</th>\n",
       "      <th>Frecuencia_internet_banking_mes</th>\n",
       "      <th>Frecuencia_banca_movil_mes</th>\n",
       "      <th>Frecuencia_pagamentos_tarjeta_mes</th>\n",
       "      <th>Frecuencia_tarjeta_virtual_mes</th>\n",
       "      <th>Frecuencia_saldo_cuenta_mes</th>\n",
       "      <th>TARGET</th>\n",
       "    </tr>\n",
       "  </thead>\n",
       "  <tbody>\n",
       "    <tr>\n",
       "      <th>28</th>\n",
       "      <td>148</td>\n",
       "      <td>0</td>\n",
       "      <td>3.0</td>\n",
       "      <td>0.0</td>\n",
       "      <td>Servidor publico</td>\n",
       "      <td>Sector privado</td>\n",
       "      <td>Iphone 7</td>\n",
       "      <td>10.0</td>\n",
       "      <td>0.0</td>\n",
       "      <td>0</td>\n",
       "      <td>30.0</td>\n",
       "      <td>50.0</td>\n",
       "      <td>15.0</td>\n",
       "      <td>0.0</td>\n",
       "      <td>30.0</td>\n",
       "      <td>Perfil_0</td>\n",
       "    </tr>\n",
       "    <tr>\n",
       "      <th>29</th>\n",
       "      <td>28</td>\n",
       "      <td>0</td>\n",
       "      <td>2.0</td>\n",
       "      <td>1.0</td>\n",
       "      <td>Servidor publico</td>\n",
       "      <td>Institucion publica</td>\n",
       "      <td>LeNovo K5 Vibe</td>\n",
       "      <td>0.0</td>\n",
       "      <td>6.0</td>\n",
       "      <td>0</td>\n",
       "      <td>50.0</td>\n",
       "      <td>30.0</td>\n",
       "      <td>1.0</td>\n",
       "      <td>15.0</td>\n",
       "      <td>30.0</td>\n",
       "      <td>Perfil_0</td>\n",
       "    </tr>\n",
       "    <tr>\n",
       "      <th>33</th>\n",
       "      <td>187</td>\n",
       "      <td>0</td>\n",
       "      <td>1.0</td>\n",
       "      <td>1.0</td>\n",
       "      <td>Profesor</td>\n",
       "      <td>Institucion publica</td>\n",
       "      <td>Iphone</td>\n",
       "      <td>10.0</td>\n",
       "      <td>6.0</td>\n",
       "      <td>1</td>\n",
       "      <td>50.0</td>\n",
       "      <td>50.0</td>\n",
       "      <td>0.0</td>\n",
       "      <td>0.0</td>\n",
       "      <td>30.0</td>\n",
       "      <td>Perfil_0</td>\n",
       "    </tr>\n",
       "    <tr>\n",
       "      <th>66</th>\n",
       "      <td>154</td>\n",
       "      <td>0</td>\n",
       "      <td>1.0</td>\n",
       "      <td>1.0</td>\n",
       "      <td>Servidor publico</td>\n",
       "      <td>Selfemployed</td>\n",
       "      <td>Samsung</td>\n",
       "      <td>0.0</td>\n",
       "      <td>3.0</td>\n",
       "      <td>1</td>\n",
       "      <td>50.0</td>\n",
       "      <td>30.0</td>\n",
       "      <td>30.0</td>\n",
       "      <td>0.0</td>\n",
       "      <td>30.0</td>\n",
       "      <td>Perfil_0</td>\n",
       "    </tr>\n",
       "    <tr>\n",
       "      <th>143</th>\n",
       "      <td>221</td>\n",
       "      <td>0</td>\n",
       "      <td>0.0</td>\n",
       "      <td>1.0</td>\n",
       "      <td>Servidor publico</td>\n",
       "      <td>Institucion publica</td>\n",
       "      <td>NaN</td>\n",
       "      <td>NaN</td>\n",
       "      <td>NaN</td>\n",
       "      <td>1</td>\n",
       "      <td>NaN</td>\n",
       "      <td>7.0</td>\n",
       "      <td>15.0</td>\n",
       "      <td>NaN</td>\n",
       "      <td>4.0</td>\n",
       "      <td>Perfil_0</td>\n",
       "    </tr>\n",
       "    <tr>\n",
       "      <th>...</th>\n",
       "      <td>...</td>\n",
       "      <td>...</td>\n",
       "      <td>...</td>\n",
       "      <td>...</td>\n",
       "      <td>...</td>\n",
       "      <td>...</td>\n",
       "      <td>...</td>\n",
       "      <td>...</td>\n",
       "      <td>...</td>\n",
       "      <td>...</td>\n",
       "      <td>...</td>\n",
       "      <td>...</td>\n",
       "      <td>...</td>\n",
       "      <td>...</td>\n",
       "      <td>...</td>\n",
       "      <td>...</td>\n",
       "    </tr>\n",
       "    <tr>\n",
       "      <th>23918</th>\n",
       "      <td>18</td>\n",
       "      <td>0</td>\n",
       "      <td>1.0</td>\n",
       "      <td>1.0</td>\n",
       "      <td>NaN</td>\n",
       "      <td>Sector privado</td>\n",
       "      <td>Samsung S7+</td>\n",
       "      <td>5.0</td>\n",
       "      <td>3.0</td>\n",
       "      <td>1</td>\n",
       "      <td>30.0</td>\n",
       "      <td>50.0</td>\n",
       "      <td>30.0</td>\n",
       "      <td>0.0</td>\n",
       "      <td>30.0</td>\n",
       "      <td>Perfil_0</td>\n",
       "    </tr>\n",
       "    <tr>\n",
       "      <th>23920</th>\n",
       "      <td>67</td>\n",
       "      <td>1</td>\n",
       "      <td>1.0</td>\n",
       "      <td>0.0</td>\n",
       "      <td>AlumNo</td>\n",
       "      <td>Sector privado</td>\n",
       "      <td>Iphone</td>\n",
       "      <td>10.0</td>\n",
       "      <td>4.0</td>\n",
       "      <td>1</td>\n",
       "      <td>0.0</td>\n",
       "      <td>7.0</td>\n",
       "      <td>15.0</td>\n",
       "      <td>0.0</td>\n",
       "      <td>30.0</td>\n",
       "      <td>Perfil_0</td>\n",
       "    </tr>\n",
       "    <tr>\n",
       "      <th>23932</th>\n",
       "      <td>206</td>\n",
       "      <td>0</td>\n",
       "      <td>2.0</td>\n",
       "      <td>0.0</td>\n",
       "      <td>Desempleados</td>\n",
       "      <td>Sector privado</td>\n",
       "      <td>LeNovo S1 Lite</td>\n",
       "      <td>5.0</td>\n",
       "      <td>6.0</td>\n",
       "      <td>1</td>\n",
       "      <td>0.0</td>\n",
       "      <td>30.0</td>\n",
       "      <td>0.0</td>\n",
       "      <td>0.0</td>\n",
       "      <td>7.0</td>\n",
       "      <td>Perfil_0</td>\n",
       "    </tr>\n",
       "    <tr>\n",
       "      <th>23940</th>\n",
       "      <td>57</td>\n",
       "      <td>0</td>\n",
       "      <td>5.0</td>\n",
       "      <td>1.0</td>\n",
       "      <td>NaN</td>\n",
       "      <td>Desempleados</td>\n",
       "      <td>LG G3</td>\n",
       "      <td>5.0</td>\n",
       "      <td>3.0</td>\n",
       "      <td>1</td>\n",
       "      <td>30.0</td>\n",
       "      <td>7.0</td>\n",
       "      <td>30.0</td>\n",
       "      <td>30.0</td>\n",
       "      <td>30.0</td>\n",
       "      <td>Perfil_0</td>\n",
       "    </tr>\n",
       "    <tr>\n",
       "      <th>23995</th>\n",
       "      <td>155</td>\n",
       "      <td>1</td>\n",
       "      <td>0.0</td>\n",
       "      <td>NaN</td>\n",
       "      <td>Profesor</td>\n",
       "      <td>Institucion publica</td>\n",
       "      <td>L G</td>\n",
       "      <td>15.0</td>\n",
       "      <td>6.0</td>\n",
       "      <td>1</td>\n",
       "      <td>30.0</td>\n",
       "      <td>30.0</td>\n",
       "      <td>30.0</td>\n",
       "      <td>30.0</td>\n",
       "      <td>7.0</td>\n",
       "      <td>Perfil_0</td>\n",
       "    </tr>\n",
       "  </tbody>\n",
       "</table>\n",
       "<p>778 rows × 16 columns</p>\n",
       "</div>"
      ],
      "text/plain": [
       "        ID Genero  Años  Estado_civil           Trabajo               Sector  \\\n",
       "28     148      0   3.0           0.0  Servidor publico       Sector privado   \n",
       "29      28      0   2.0           1.0  Servidor publico  Institucion publica   \n",
       "33     187      0   1.0           1.0          Profesor  Institucion publica   \n",
       "66     154      0   1.0           1.0  Servidor publico        Selfemployed    \n",
       "143    221      0   0.0           1.0  Servidor publico  Institucion publica   \n",
       "...    ...    ...   ...           ...               ...                  ...   \n",
       "23918   18      0   1.0           1.0               NaN       Sector privado   \n",
       "23920   67      1   1.0           0.0            AlumNo       Sector privado   \n",
       "23932  206      0   2.0           0.0      Desempleados       Sector privado   \n",
       "23940   57      0   5.0           1.0               NaN         Desempleados   \n",
       "23995  155      1   0.0           NaN          Profesor  Institucion publica   \n",
       "\n",
       "             Telefono  Anos_usando_internet_banking  Anos_usando_banca_movil  \\\n",
       "28           Iphone 7                          10.0                      0.0   \n",
       "29     LeNovo K5 Vibe                           0.0                      6.0   \n",
       "33             Iphone                          10.0                      6.0   \n",
       "66            Samsung                           0.0                      3.0   \n",
       "143               NaN                           NaN                      NaN   \n",
       "...               ...                           ...                      ...   \n",
       "23918     Samsung S7+                           5.0                      3.0   \n",
       "23920          Iphone                          10.0                      4.0   \n",
       "23932  LeNovo S1 Lite                           5.0                      6.0   \n",
       "23940           LG G3                           5.0                      3.0   \n",
       "23995             L G                          15.0                      6.0   \n",
       "\n",
       "       Banca_movil_userfriendly  Frecuencia_internet_banking_mes  \\\n",
       "28                            0                             30.0   \n",
       "29                            0                             50.0   \n",
       "33                            1                             50.0   \n",
       "66                            1                             50.0   \n",
       "143                           1                              NaN   \n",
       "...                         ...                              ...   \n",
       "23918                         1                             30.0   \n",
       "23920                         1                              0.0   \n",
       "23932                         1                              0.0   \n",
       "23940                         1                             30.0   \n",
       "23995                         1                             30.0   \n",
       "\n",
       "       Frecuencia_banca_movil_mes  Frecuencia_pagamentos_tarjeta_mes  \\\n",
       "28                           50.0                               15.0   \n",
       "29                           30.0                                1.0   \n",
       "33                           50.0                                0.0   \n",
       "66                           30.0                               30.0   \n",
       "143                           7.0                               15.0   \n",
       "...                           ...                                ...   \n",
       "23918                        50.0                               30.0   \n",
       "23920                         7.0                               15.0   \n",
       "23932                        30.0                                0.0   \n",
       "23940                         7.0                               30.0   \n",
       "23995                        30.0                               30.0   \n",
       "\n",
       "       Frecuencia_tarjeta_virtual_mes  Frecuencia_saldo_cuenta_mes    TARGET  \n",
       "28                                0.0                         30.0  Perfil_0  \n",
       "29                               15.0                         30.0  Perfil_0  \n",
       "33                                0.0                         30.0  Perfil_0  \n",
       "66                                0.0                         30.0  Perfil_0  \n",
       "143                               NaN                          4.0  Perfil_0  \n",
       "...                               ...                          ...       ...  \n",
       "23918                             0.0                         30.0  Perfil_0  \n",
       "23920                             0.0                         30.0  Perfil_0  \n",
       "23932                             0.0                          7.0  Perfil_0  \n",
       "23940                            30.0                         30.0  Perfil_0  \n",
       "23995                            30.0                          7.0  Perfil_0  \n",
       "\n",
       "[778 rows x 16 columns]"
      ]
     },
     "execution_count": 660,
     "metadata": {},
     "output_type": "execute_result"
    }
   ],
   "source": [
    "df_training_dataset[df_training_dataset['TARGET']=='Perfil_0']"
   ]
  },
  {
   "cell_type": "code",
   "execution_count": 661,
   "metadata": {},
   "outputs": [
    {
     "name": "stdout",
     "output_type": "stream",
     "text": [
      "Sector privado\n"
     ]
    },
    {
     "data": {
      "image/png": "[encoded data removed]",
      "text/plain": [
       "<Figure size 432x288 with 1 Axes>"
      ]
     },
     "metadata": {
      "needs_background": "light"
     },
     "output_type": "display_data"
    },
    {
     "name": "stdout",
     "output_type": "stream",
     "text": [
      "Institucion publica\n"
     ]
    },
    {
     "data": {
      "image/png": "[encoded data removed]",
      "text/plain": [
       "<Figure size 432x288 with 1 Axes>"
      ]
     },
     "metadata": {
      "needs_background": "light"
     },
     "output_type": "display_data"
    },
    {
     "name": "stdout",
     "output_type": "stream",
     "text": [
      "Desempleados\n"
     ]
    },
    {
     "data": {
      "image/png": "[encoded data removed]",
      "text/plain": [
       "<Figure size 432x288 with 1 Axes>"
      ]
     },
     "metadata": {
      "needs_background": "light"
     },
     "output_type": "display_data"
    },
    {
     "name": "stdout",
     "output_type": "stream",
     "text": [
      "Selfemployed \n"
     ]
    },
    {
     "data": {
      "image/png": "[encoded data removed]",
      "text/plain": [
       "<Figure size 432x288 with 1 Axes>"
      ]
     },
     "metadata": {
      "needs_background": "light"
     },
     "output_type": "display_data"
    }
   ],
   "source": [
    "import seaborn as sns\n",
    "import matplotlib.pyplot as plt\n",
    "for j in df_training_dataset['Sector'].value_counts().index:\n",
    "    print(j)\n",
    "    #print(df_training_dataset[df_training_dataset['Sector']==j].TARGET.value_counts())\n",
    "    sns.countplot(x=\"TARGET\", data=df_training_dataset[df_training_dataset['Sector']==j])\n",
    "    plt.show()"
   ]
  },
  {
   "cell_type": "markdown",
   "metadata": {},
   "source": [
    "<hr>\n",
    "\n",
    "## Desglose del desafío: clasificación multiclase\n",
    "\n",
    "Este es un desafio cuyo objetivo de negocio es la segmentación de usuario de aplicativos de BanCopp. Podemos utilizar  dos enfoques: Machine Learning supervisado (clasificación) o no supervisado (clustering). En este desafío será usado la clasificación porque el conjunto de datos ya está disponible con \"labels\", o en otras palabras, ya con la variable objetivo. \n",
    "\n",
    "En la biblioteca scikit-learn tenemos diversos algoritmos para clasificación. El participante es libre para utilizar el framework que desee para completar este desafío.\n",
    "\n",
    "En este notebook será mostrado un ejemplo usando el algoritmo \"Decision Tree\" para clasificar los estudantes en seis diferentes perfiles."
   ]
  },
  {
   "cell_type": "markdown",
   "metadata": {},
   "source": [
    "# ¡Atención!\n",
    "\n",
    "La columna objetivo de este desafío es la columna ``TARGET``"
   ]
  },
  {
   "cell_type": "markdown",
   "metadata": {},
   "source": [
    "<hr>"
   ]
  },
  {
   "cell_type": "code",
   "execution_count": null,
   "metadata": {},
   "outputs": [],
   "source": []
  },
  {
   "cell_type": "code",
   "execution_count": null,
   "metadata": {},
   "outputs": [],
   "source": []
  },
  {
   "cell_type": "code",
   "execution_count": null,
   "metadata": {},
   "outputs": [],
   "source": []
  },
  {
   "cell_type": "markdown",
   "metadata": {},
   "source": [
    "## Pre-procesando el dataset antes del entrenamiento"
   ]
  },
  {
   "cell_type": "markdown",
   "metadata": {},
   "source": [
    "### Removiendo todas las lineas que poseen algun valor nulo en determinadas columnas"
   ]
  },
  {
   "cell_type": "markdown",
   "metadata": {},
   "source": [
    "Usando el método Pandas **DataFrame.dropna()** usted puede remover todas las lineas nulas del dataset.\n",
    "\n",
    "Docs: https://pandas.pydata.org/pandas-docs/stable/reference/api/pandas.DataFrame.dropna.html"
   ]
  },
  {
   "cell_type": "code",
   "execution_count": 376,
   "metadata": {},
   "outputs": [
    {
     "name": "stdout",
     "output_type": "stream",
     "text": [
      "Valores nulos del df_training_dataset antes de la transformación DropNA: \n",
      "\n",
      "ID                                      0\n",
      "Genero                                889\n",
      "Años                                  268\n",
      "Estado_civil                          704\n",
      "Trabajo                              2955\n",
      "Sector                                359\n",
      "Telefono                             1421\n",
      "Anos_usando_internet_banking          644\n",
      "Anos_usando_banca_movil              1301\n",
      "Banca_movil_userfriendly                0\n",
      "Frecuencia_internet_banking_mes      2724\n",
      "Frecuencia_banca_movil_mes           1271\n",
      "Frecuencia_pagamentos_tarjeta_mes     285\n",
      "Frecuencia_tarjeta_virtual_mes        475\n",
      "Frecuencia_saldo_cuenta_mes           570\n",
      "TARGET                                  0\n",
      "dtype: int64\n",
      "\n"
     ]
    }
   ],
   "source": [
    "# Mostrando los datos nulos del dataset antes de la primera transformación (df)\n",
    "print(\"Valores nulos del df_training_dataset antes de la transformación DropNA: \\n\\n{}\\n\".format(df_training_dataset.isnull().sum(axis = 0)))"
   ]
  },
  {
   "cell_type": "code",
   "execution_count": 664,
   "metadata": {},
   "outputs": [],
   "source": [
    "# Aplicando la función para borrar todas las lines con valore NaN en las siguientes columnas:\n",
    "df_training_dataset = df_training_dataset.dropna(axis='index', how='any', subset=['Genero',  'Estado_civil', 'Sector'])"
   ]
  },
  {
   "cell_type": "code",
   "execution_count": 662,
   "metadata": {},
   "outputs": [],
   "source": [
    "is_NaN = df_training_dataset.isnull()\n",
    "row_has_NaN = is_NaN.any(axis=1)"
   ]
  },
  {
   "cell_type": "code",
   "execution_count": 663,
   "metadata": {},
   "outputs": [],
   "source": [
    "df_training_dataset['nulos']=row_has_NaN.astype('int')"
   ]
  },
  {
   "cell_type": "code",
   "execution_count": 412,
   "metadata": {
    "scrolled": true
   },
   "outputs": [
    {
     "name": "stdout",
     "output_type": "stream",
     "text": [
      "Valores nulos del df_training_dataset despues de la transformación DropNA: \n",
      "\n",
      "ID                                      0\n",
      "Genero                                889\n",
      "Años                                  268\n",
      "Estado_civil                          704\n",
      "Trabajo                              2955\n",
      "Sector                                359\n",
      "Telefono                             1421\n",
      "Anos_usando_internet_banking          644\n",
      "Anos_usando_banca_movil              1301\n",
      "Banca_movil_userfriendly                0\n",
      "Frecuencia_internet_banking_mes      2724\n",
      "Frecuencia_banca_movil_mes           1271\n",
      "Frecuencia_pagamentos_tarjeta_mes     285\n",
      "Frecuencia_tarjeta_virtual_mes        475\n",
      "Frecuencia_saldo_cuenta_mes           570\n",
      "TARGET                                  0\n",
      "nulos                                   0\n",
      "dtype: int64\n",
      "\n"
     ]
    }
   ],
   "source": [
    "# # Mostrando los datos nulos del dataset despues de la primera transformación (df)\n",
    "print(\"Valores nulos del df_training_dataset despues de la transformación DropNA: \\n\\n{}\\n\".format(df_training_dataset.isnull().sum(axis = 0)))"
   ]
  },
  {
   "cell_type": "markdown",
   "metadata": {},
   "source": [
    "### Procesando valores NaN con SimpleImputer de sklearn\n",
    "\n",
    "Para los valores NaN, usaremos a substituición por la constante 0 como **ejemplo**.\n",
    "\n",
    "Usted puede escoger la estrategía que crea mejor para tratar los valores nulos :)\n",
    "\n",
    "Docs: https://scikit-learn.org/stable/modules/generated/sklearn.impute.SimpleImputer.html?highlight=simpleimputer#sklearn.impute.SimpleImputer"
   ]
  },
  {
   "cell_type": "code",
   "execution_count": 665,
   "metadata": {},
   "outputs": [],
   "source": [
    "df_training_dataset_rmcolumns = df_training_dataset.drop(columns=['ID', 'Trabajo', 'Sector', 'Telefono','Genero', 'Años', 'Estado_civil'], inplace=False)"
   ]
  },
  {
   "cell_type": "code",
   "execution_count": 666,
   "metadata": {},
   "outputs": [
    {
     "data": {
      "text/html": [
       "<div>\n",
       "<style scoped>\n",
       "    .dataframe tbody tr th:only-of-type {\n",
       "        vertical-align: middle;\n",
       "    }\n",
       "\n",
       "    .dataframe tbody tr th {\n",
       "        vertical-align: top;\n",
       "    }\n",
       "\n",
       "    .dataframe thead th {\n",
       "        text-align: right;\n",
       "    }\n",
       "</style>\n",
       "<table border=\"1\" class=\"dataframe\">\n",
       "  <thead>\n",
       "    <tr style=\"text-align: right;\">\n",
       "      <th></th>\n",
       "      <th>Anos_usando_internet_banking</th>\n",
       "      <th>Anos_usando_banca_movil</th>\n",
       "      <th>Banca_movil_userfriendly</th>\n",
       "      <th>Frecuencia_internet_banking_mes</th>\n",
       "      <th>Frecuencia_banca_movil_mes</th>\n",
       "      <th>Frecuencia_pagamentos_tarjeta_mes</th>\n",
       "      <th>Frecuencia_tarjeta_virtual_mes</th>\n",
       "      <th>Frecuencia_saldo_cuenta_mes</th>\n",
       "      <th>TARGET</th>\n",
       "      <th>nulos</th>\n",
       "    </tr>\n",
       "  </thead>\n",
       "  <tbody>\n",
       "    <tr>\n",
       "      <th>0</th>\n",
       "      <td>0.0</td>\n",
       "      <td>6.0</td>\n",
       "      <td>1</td>\n",
       "      <td>50.0</td>\n",
       "      <td>0.0</td>\n",
       "      <td>1.0</td>\n",
       "      <td>0.0</td>\n",
       "      <td>30.0</td>\n",
       "      <td>Perfil_2</td>\n",
       "      <td>0</td>\n",
       "    </tr>\n",
       "    <tr>\n",
       "      <th>1</th>\n",
       "      <td>5.0</td>\n",
       "      <td>3.0</td>\n",
       "      <td>0</td>\n",
       "      <td>30.0</td>\n",
       "      <td>4.0</td>\n",
       "      <td>30.0</td>\n",
       "      <td>0.0</td>\n",
       "      <td>30.0</td>\n",
       "      <td>Perfil_1</td>\n",
       "      <td>0</td>\n",
       "    </tr>\n",
       "    <tr>\n",
       "      <th>2</th>\n",
       "      <td>0.0</td>\n",
       "      <td>3.0</td>\n",
       "      <td>1</td>\n",
       "      <td>50.0</td>\n",
       "      <td>30.0</td>\n",
       "      <td>15.0</td>\n",
       "      <td>1.0</td>\n",
       "      <td>15.0</td>\n",
       "      <td>Perfil_4</td>\n",
       "      <td>0</td>\n",
       "    </tr>\n",
       "    <tr>\n",
       "      <th>3</th>\n",
       "      <td>5.0</td>\n",
       "      <td>3.0</td>\n",
       "      <td>0</td>\n",
       "      <td>30.0</td>\n",
       "      <td>7.0</td>\n",
       "      <td>30.0</td>\n",
       "      <td>0.0</td>\n",
       "      <td>30.0</td>\n",
       "      <td>Perfil_1</td>\n",
       "      <td>0</td>\n",
       "    </tr>\n",
       "    <tr>\n",
       "      <th>4</th>\n",
       "      <td>6.0</td>\n",
       "      <td>0.0</td>\n",
       "      <td>0</td>\n",
       "      <td>4.0</td>\n",
       "      <td>NaN</td>\n",
       "      <td>1.0</td>\n",
       "      <td>15.0</td>\n",
       "      <td>1.0</td>\n",
       "      <td>Perfil_3</td>\n",
       "      <td>1</td>\n",
       "    </tr>\n",
       "  </tbody>\n",
       "</table>\n",
       "</div>"
      ],
      "text/plain": [
       "   Anos_usando_internet_banking  Anos_usando_banca_movil  \\\n",
       "0                           0.0                      6.0   \n",
       "1                           5.0                      3.0   \n",
       "2                           0.0                      3.0   \n",
       "3                           5.0                      3.0   \n",
       "4                           6.0                      0.0   \n",
       "\n",
       "   Banca_movil_userfriendly  Frecuencia_internet_banking_mes  \\\n",
       "0                         1                             50.0   \n",
       "1                         0                             30.0   \n",
       "2                         1                             50.0   \n",
       "3                         0                             30.0   \n",
       "4                         0                              4.0   \n",
       "\n",
       "   Frecuencia_banca_movil_mes  Frecuencia_pagamentos_tarjeta_mes  \\\n",
       "0                         0.0                                1.0   \n",
       "1                         4.0                               30.0   \n",
       "2                        30.0                               15.0   \n",
       "3                         7.0                               30.0   \n",
       "4                         NaN                                1.0   \n",
       "\n",
       "   Frecuencia_tarjeta_virtual_mes  Frecuencia_saldo_cuenta_mes    TARGET  \\\n",
       "0                             0.0                         30.0  Perfil_2   \n",
       "1                             0.0                         30.0  Perfil_1   \n",
       "2                             1.0                         15.0  Perfil_4   \n",
       "3                             0.0                         30.0  Perfil_1   \n",
       "4                            15.0                          1.0  Perfil_3   \n",
       "\n",
       "   nulos  \n",
       "0      0  \n",
       "1      0  \n",
       "2      0  \n",
       "3      0  \n",
       "4      1  "
      ]
     },
     "execution_count": 666,
     "metadata": {},
     "output_type": "execute_result"
    }
   ],
   "source": [
    "df_training_dataset_rmcolumns.head()"
   ]
  },
  {
   "cell_type": "code",
   "execution_count": 667,
   "metadata": {},
   "outputs": [],
   "source": [
    "from sklearn.impute import SimpleImputer\n",
    "import numpy as np\n",
    "\n",
    "\n",
    "impute_zeros = SimpleImputer(\n",
    "    missing_values=np.nan,\n",
    "    strategy='constant',\n",
    "    fill_value=0,\n",
    "    verbose=0,\n",
    "    copy=True\n",
    ")"
   ]
  },
  {
   "cell_type": "code",
   "execution_count": 668,
   "metadata": {},
   "outputs": [],
   "source": [
    "for j in df_training_dataset_rmcolumns.iloc[:,0:-1].columns:\n",
    "    #impute_zeros.fit(X=df_training_dataset_rmcolumns[j])\n",
    "    df_training_dataset_rmcolumns[j]=impute_zeros.fit_transform(X=df_training_dataset_rmcolumns[j].values.reshape(-1,1))[:,0]"
   ]
  },
  {
   "cell_type": "code",
   "execution_count": 123,
   "metadata": {},
   "outputs": [],
   "source": [
    "impute_moda = SimpleImputer(\n",
    "    missing_values=np.nan,\n",
    "    strategy='median',\n",
    "    verbose=0,\n",
    "    copy=True\n",
    ")"
   ]
  },
  {
   "cell_type": "code",
   "execution_count": 124,
   "metadata": {},
   "outputs": [],
   "source": [
    "for j in df_training_dataset_rmcolumns.iloc[:,0:3].columns:\n",
    "    #impute_zeros.fit(X=df_training_dataset_rmcolumns[j])\n",
    "    df_training_dataset_rmcolumns[j]=impute_moda.fit_transform(X=df_training_dataset_rmcolumns[j].values.reshape(-1,1))[:,0]"
   ]
  },
  {
   "cell_type": "code",
   "execution_count": 679,
   "metadata": {},
   "outputs": [],
   "source": [
    "df_training=df_training_dataset_rmcolumns.copy()"
   ]
  },
  {
   "cell_type": "code",
   "execution_count": 546,
   "metadata": {},
   "outputs": [
    {
     "name": "stdout",
     "output_type": "stream",
     "text": [
      "Valores nulos del df_training_dataset antes de la transformación SimpleImputer: \n",
      "\n",
      "ID                                      0\n",
      "Genero                                889\n",
      "Años                                  268\n",
      "Estado_civil                          704\n",
      "Trabajo                              2955\n",
      "Sector                                359\n",
      "Telefono                             1421\n",
      "Anos_usando_internet_banking          644\n",
      "Anos_usando_banca_movil              1301\n",
      "Banca_movil_userfriendly                0\n",
      "Frecuencia_internet_banking_mes      2724\n",
      "Frecuencia_banca_movil_mes           1271\n",
      "Frecuencia_pagamentos_tarjeta_mes     285\n",
      "Frecuencia_tarjeta_virtual_mes        475\n",
      "Frecuencia_saldo_cuenta_mes           570\n",
      "TARGET                                  0\n",
      "dtype: int64\n",
      "\n",
      "Valores nulos del df_training_dataset despues de la transformación SimpleImputer: \n",
      "\n",
      "ID                                   0\n",
      "Genero                               0\n",
      "Años                                 0\n",
      "Estado_civil                         0\n",
      "Trabajo                              0\n",
      "Sector                               0\n",
      "Telefono                             0\n",
      "Anos_usando_internet_banking         0\n",
      "Anos_usando_banca_movil              0\n",
      "Banca_movil_userfriendly             0\n",
      "Frecuencia_internet_banking_mes      0\n",
      "Frecuencia_banca_movil_mes           0\n",
      "Frecuencia_pagamentos_tarjeta_mes    0\n",
      "Frecuencia_tarjeta_virtual_mes       0\n",
      "Frecuencia_saldo_cuenta_mes          0\n",
      "TARGET                               0\n",
      "dtype: int64\n",
      "\n"
     ]
    }
   ],
   "source": [
    "# Mostrando los datos nulos del dataset antes de la segunda transformación (df)\n",
    "print(\"Valores nulos del df_training_dataset antes de la transformación SimpleImputer: \\n\\n{}\\n\".format(df_training_dataset.isnull().sum(axis = 0)))\n",
    "\n",
    "# Aplicando la transformación ``SimpleImputer`` en conjunto de datos base\n",
    "impute_zeros.fit(X=df_training_dataset)\n",
    "\n",
    "# Reconstruyendo un Pandas DataFrame con los resultados\n",
    "df_training_dataset_imputed = pd.DataFrame.from_records(\n",
    "    data=impute_zeros.transform(\n",
    "        X=df_training_dataset\n",
    "    ),\n",
    "    columns=df_training_dataset.columns\n",
    ")\n",
    "\n",
    "# Mostrando los datos nulos del dataset despues de la segunda transformación (df)\n",
    "print(\"Valores nulos del df_training_dataset despues de la transformación SimpleImputer: \\n\\n{}\\n\".format(df_training_dataset_imputed.isnull().sum(axis = 0)))"
   ]
  },
  {
   "cell_type": "markdown",
   "metadata": {},
   "source": [
    "### Eliminando colunas no desadas\n",
    "\n",
    "Vamos  **demonstrar** abajo como usar el método **DataFrame.drop()**.\n",
    "\n",
    "Docs: https://pandas.pydata.org/pandas-docs/stable/reference/api/pandas.DataFrame.drop.html"
   ]
  },
  {
   "cell_type": "code",
   "execution_count": 579,
   "metadata": {},
   "outputs": [
    {
     "data": {
      "text/html": [
       "<div>\n",
       "<style scoped>\n",
       "    .dataframe tbody tr th:only-of-type {\n",
       "        vertical-align: middle;\n",
       "    }\n",
       "\n",
       "    .dataframe tbody tr th {\n",
       "        vertical-align: top;\n",
       "    }\n",
       "\n",
       "    .dataframe thead th {\n",
       "        text-align: right;\n",
       "    }\n",
       "</style>\n",
       "<table border=\"1\" class=\"dataframe\">\n",
       "  <thead>\n",
       "    <tr style=\"text-align: right;\">\n",
       "      <th></th>\n",
       "      <th>Anos_usando_internet_banking</th>\n",
       "      <th>Anos_usando_banca_movil</th>\n",
       "      <th>Banca_movil_userfriendly</th>\n",
       "      <th>Frecuencia_internet_banking_mes</th>\n",
       "      <th>Frecuencia_banca_movil_mes</th>\n",
       "      <th>Frecuencia_pagamentos_tarjeta_mes</th>\n",
       "      <th>Frecuencia_tarjeta_virtual_mes</th>\n",
       "      <th>Frecuencia_saldo_cuenta_mes</th>\n",
       "      <th>TARGET</th>\n",
       "      <th>nulos</th>\n",
       "    </tr>\n",
       "  </thead>\n",
       "  <tbody>\n",
       "    <tr>\n",
       "      <th>23994</th>\n",
       "      <td>10.0</td>\n",
       "      <td>3.0</td>\n",
       "      <td>1</td>\n",
       "      <td>30.0</td>\n",
       "      <td>0.0</td>\n",
       "      <td>0.0</td>\n",
       "      <td>0.0</td>\n",
       "      <td>30.0</td>\n",
       "      <td>Perfil_3</td>\n",
       "      <td>0</td>\n",
       "    </tr>\n",
       "    <tr>\n",
       "      <th>23995</th>\n",
       "      <td>15.0</td>\n",
       "      <td>6.0</td>\n",
       "      <td>1</td>\n",
       "      <td>30.0</td>\n",
       "      <td>30.0</td>\n",
       "      <td>30.0</td>\n",
       "      <td>30.0</td>\n",
       "      <td>7.0</td>\n",
       "      <td>Perfil_0</td>\n",
       "      <td>1</td>\n",
       "    </tr>\n",
       "    <tr>\n",
       "      <th>23996</th>\n",
       "      <td>5.0</td>\n",
       "      <td>3.0</td>\n",
       "      <td>1</td>\n",
       "      <td>0.0</td>\n",
       "      <td>30.0</td>\n",
       "      <td>1.0</td>\n",
       "      <td>0.0</td>\n",
       "      <td>0.0</td>\n",
       "      <td>Perfil_4</td>\n",
       "      <td>0</td>\n",
       "    </tr>\n",
       "    <tr>\n",
       "      <th>23997</th>\n",
       "      <td>5.0</td>\n",
       "      <td>6.0</td>\n",
       "      <td>0</td>\n",
       "      <td>7.0</td>\n",
       "      <td>0.0</td>\n",
       "      <td>1.0</td>\n",
       "      <td>1.0</td>\n",
       "      <td>0.0</td>\n",
       "      <td>Perfil_4</td>\n",
       "      <td>0</td>\n",
       "    </tr>\n",
       "    <tr>\n",
       "      <th>23998</th>\n",
       "      <td>5.0</td>\n",
       "      <td>4.0</td>\n",
       "      <td>0</td>\n",
       "      <td>30.0</td>\n",
       "      <td>30.0</td>\n",
       "      <td>0.0</td>\n",
       "      <td>0.0</td>\n",
       "      <td>0.0</td>\n",
       "      <td>Perfil_3</td>\n",
       "      <td>0</td>\n",
       "    </tr>\n",
       "  </tbody>\n",
       "</table>\n",
       "</div>"
      ],
      "text/plain": [
       "       Anos_usando_internet_banking  Anos_usando_banca_movil  \\\n",
       "23994                          10.0                      3.0   \n",
       "23995                          15.0                      6.0   \n",
       "23996                           5.0                      3.0   \n",
       "23997                           5.0                      6.0   \n",
       "23998                           5.0                      4.0   \n",
       "\n",
       "       Banca_movil_userfriendly  Frecuencia_internet_banking_mes  \\\n",
       "23994                         1                             30.0   \n",
       "23995                         1                             30.0   \n",
       "23996                         1                              0.0   \n",
       "23997                         0                              7.0   \n",
       "23998                         0                             30.0   \n",
       "\n",
       "       Frecuencia_banca_movil_mes  Frecuencia_pagamentos_tarjeta_mes  \\\n",
       "23994                         0.0                                0.0   \n",
       "23995                        30.0                               30.0   \n",
       "23996                        30.0                                1.0   \n",
       "23997                         0.0                                1.0   \n",
       "23998                        30.0                                0.0   \n",
       "\n",
       "       Frecuencia_tarjeta_virtual_mes  Frecuencia_saldo_cuenta_mes    TARGET  \\\n",
       "23994                             0.0                         30.0  Perfil_3   \n",
       "23995                            30.0                          7.0  Perfil_0   \n",
       "23996                             0.0                          0.0  Perfil_4   \n",
       "23997                             1.0                          0.0  Perfil_4   \n",
       "23998                             0.0                          0.0  Perfil_3   \n",
       "\n",
       "       nulos  \n",
       "23994      0  \n",
       "23995      1  \n",
       "23996      0  \n",
       "23997      0  \n",
       "23998      0  "
      ]
     },
     "execution_count": 579,
     "metadata": {},
     "output_type": "execute_result"
    }
   ],
   "source": [
    "df_training_dataset_rmcolumns.tail()"
   ]
  },
  {
   "cell_type": "markdown",
   "metadata": {},
   "source": [
    "# ¡Atención!\n",
    "\n",
    "Las columnas removidas anteriores son solo por ejemplo, puede usar las columnas que desee e incluso crear nuevas columnas con datos que crea que son importantes."
   ]
  },
  {
   "cell_type": "markdown",
   "metadata": {},
   "source": [
    "### Tratamiento de variables categóricas\n",
    "\n",
    "Como mencionado antes, los computadores no son buenos con variables \"categóricas\" (strings).\n",
    "\n",
    "Dado una columna con variable categórica, lo que podemos realizar es la codificación de esa columna en multiples columnas contiendo variables binárias. Este proceso es llamado \"one-hot-encoding\" o \"dummy encoding\". Si usted no esta familiarizado con estos terminos, usted puede buscar mas sobre estos en internet :)"
   ]
  },
  {
   "cell_type": "code",
   "execution_count": 580,
   "metadata": {},
   "outputs": [
    {
     "data": {
      "text/html": [
       "<div>\n",
       "<style scoped>\n",
       "    .dataframe tbody tr th:only-of-type {\n",
       "        vertical-align: middle;\n",
       "    }\n",
       "\n",
       "    .dataframe tbody tr th {\n",
       "        vertical-align: top;\n",
       "    }\n",
       "\n",
       "    .dataframe thead th {\n",
       "        text-align: right;\n",
       "    }\n",
       "</style>\n",
       "<table border=\"1\" class=\"dataframe\">\n",
       "  <thead>\n",
       "    <tr style=\"text-align: right;\">\n",
       "      <th></th>\n",
       "      <th>Anos_usando_internet_banking</th>\n",
       "      <th>Anos_usando_banca_movil</th>\n",
       "      <th>Frecuencia_internet_banking_mes</th>\n",
       "      <th>Frecuencia_banca_movil_mes</th>\n",
       "      <th>Frecuencia_pagamentos_tarjeta_mes</th>\n",
       "      <th>Frecuencia_tarjeta_virtual_mes</th>\n",
       "      <th>Frecuencia_saldo_cuenta_mes</th>\n",
       "      <th>TARGET</th>\n",
       "      <th>nulos</th>\n",
       "      <th>Banca_movil_userfriendly_0</th>\n",
       "      <th>Banca_movil_userfriendly_1</th>\n",
       "    </tr>\n",
       "  </thead>\n",
       "  <tbody>\n",
       "    <tr>\n",
       "      <th>23994</th>\n",
       "      <td>10.0</td>\n",
       "      <td>3.0</td>\n",
       "      <td>30.0</td>\n",
       "      <td>0.0</td>\n",
       "      <td>0.0</td>\n",
       "      <td>0.0</td>\n",
       "      <td>30.0</td>\n",
       "      <td>Perfil_3</td>\n",
       "      <td>0</td>\n",
       "      <td>0</td>\n",
       "      <td>1</td>\n",
       "    </tr>\n",
       "    <tr>\n",
       "      <th>23995</th>\n",
       "      <td>15.0</td>\n",
       "      <td>6.0</td>\n",
       "      <td>30.0</td>\n",
       "      <td>30.0</td>\n",
       "      <td>30.0</td>\n",
       "      <td>30.0</td>\n",
       "      <td>7.0</td>\n",
       "      <td>Perfil_0</td>\n",
       "      <td>1</td>\n",
       "      <td>0</td>\n",
       "      <td>1</td>\n",
       "    </tr>\n",
       "    <tr>\n",
       "      <th>23996</th>\n",
       "      <td>5.0</td>\n",
       "      <td>3.0</td>\n",
       "      <td>0.0</td>\n",
       "      <td>30.0</td>\n",
       "      <td>1.0</td>\n",
       "      <td>0.0</td>\n",
       "      <td>0.0</td>\n",
       "      <td>Perfil_4</td>\n",
       "      <td>0</td>\n",
       "      <td>0</td>\n",
       "      <td>1</td>\n",
       "    </tr>\n",
       "    <tr>\n",
       "      <th>23997</th>\n",
       "      <td>5.0</td>\n",
       "      <td>6.0</td>\n",
       "      <td>7.0</td>\n",
       "      <td>0.0</td>\n",
       "      <td>1.0</td>\n",
       "      <td>1.0</td>\n",
       "      <td>0.0</td>\n",
       "      <td>Perfil_4</td>\n",
       "      <td>0</td>\n",
       "      <td>1</td>\n",
       "      <td>0</td>\n",
       "    </tr>\n",
       "    <tr>\n",
       "      <th>23998</th>\n",
       "      <td>5.0</td>\n",
       "      <td>4.0</td>\n",
       "      <td>30.0</td>\n",
       "      <td>30.0</td>\n",
       "      <td>0.0</td>\n",
       "      <td>0.0</td>\n",
       "      <td>0.0</td>\n",
       "      <td>Perfil_3</td>\n",
       "      <td>0</td>\n",
       "      <td>1</td>\n",
       "      <td>0</td>\n",
       "    </tr>\n",
       "  </tbody>\n",
       "</table>\n",
       "</div>"
      ],
      "text/plain": [
       "       Anos_usando_internet_banking  Anos_usando_banca_movil  \\\n",
       "23994                          10.0                      3.0   \n",
       "23995                          15.0                      6.0   \n",
       "23996                           5.0                      3.0   \n",
       "23997                           5.0                      6.0   \n",
       "23998                           5.0                      4.0   \n",
       "\n",
       "       Frecuencia_internet_banking_mes  Frecuencia_banca_movil_mes  \\\n",
       "23994                             30.0                         0.0   \n",
       "23995                             30.0                        30.0   \n",
       "23996                              0.0                        30.0   \n",
       "23997                              7.0                         0.0   \n",
       "23998                             30.0                        30.0   \n",
       "\n",
       "       Frecuencia_pagamentos_tarjeta_mes  Frecuencia_tarjeta_virtual_mes  \\\n",
       "23994                                0.0                             0.0   \n",
       "23995                               30.0                            30.0   \n",
       "23996                                1.0                             0.0   \n",
       "23997                                1.0                             1.0   \n",
       "23998                                0.0                             0.0   \n",
       "\n",
       "       Frecuencia_saldo_cuenta_mes    TARGET  nulos  \\\n",
       "23994                         30.0  Perfil_3      0   \n",
       "23995                          7.0  Perfil_0      1   \n",
       "23996                          0.0  Perfil_4      0   \n",
       "23997                          0.0  Perfil_4      0   \n",
       "23998                          0.0  Perfil_3      0   \n",
       "\n",
       "       Banca_movil_userfriendly_0  Banca_movil_userfriendly_1  \n",
       "23994                           0                           1  \n",
       "23995                           0                           1  \n",
       "23996                           0                           1  \n",
       "23997                           1                           0  \n",
       "23998                           1                           0  "
      ]
     },
     "execution_count": 580,
     "metadata": {},
     "output_type": "execute_result"
    }
   ],
   "source": [
    "# Tratando variables categóricas con el método Pandas ``get_dummies()''\n",
    "df_training = pd.get_dummies(df_training_dataset_rmcolumns, columns=['Banca_movil_userfriendly'])\n",
    "df_training.tail()"
   ]
  },
  {
   "cell_type": "code",
   "execution_count": 680,
   "metadata": {},
   "outputs": [],
   "source": [
    "#df_training['banking']=df_training.Anos_usando_internet_banking*df_training.Frecuencia_internet_banking_mes\n",
    "#df_training['banca_movil']=df_training.Anos_usando_banca_movil*df_training.Frecuencia_banca_movil_mes\n",
    "#df_training['ratio']=df_training.Frecuencia_banca_movil_mes*df_training.Frecuencia_saldo_cuenta_mes\n",
    "df_training['ratio2']=df_training.Frecuencia_banca_movil_mes+df_training.Frecuencia_saldo_cuenta_mes+df_training.Frecuencia_internet_banking_mes"
   ]
  },
  {
   "cell_type": "code",
   "execution_count": 619,
   "metadata": {},
   "outputs": [
    {
     "data": {
      "text/html": [
       "<div>\n",
       "<style scoped>\n",
       "    .dataframe tbody tr th:only-of-type {\n",
       "        vertical-align: middle;\n",
       "    }\n",
       "\n",
       "    .dataframe tbody tr th {\n",
       "        vertical-align: top;\n",
       "    }\n",
       "\n",
       "    .dataframe thead th {\n",
       "        text-align: right;\n",
       "    }\n",
       "</style>\n",
       "<table border=\"1\" class=\"dataframe\">\n",
       "  <thead>\n",
       "    <tr style=\"text-align: right;\">\n",
       "      <th></th>\n",
       "      <th>Anos_usando_internet_banking</th>\n",
       "      <th>Anos_usando_banca_movil</th>\n",
       "      <th>Banca_movil_userfriendly</th>\n",
       "      <th>Frecuencia_internet_banking_mes</th>\n",
       "      <th>Frecuencia_banca_movil_mes</th>\n",
       "      <th>Frecuencia_pagamentos_tarjeta_mes</th>\n",
       "      <th>Frecuencia_tarjeta_virtual_mes</th>\n",
       "      <th>Frecuencia_saldo_cuenta_mes</th>\n",
       "      <th>TARGET</th>\n",
       "      <th>nulos</th>\n",
       "      <th>banking</th>\n",
       "      <th>banca_movil</th>\n",
       "      <th>ratio</th>\n",
       "      <th>ratio2</th>\n",
       "    </tr>\n",
       "  </thead>\n",
       "  <tbody>\n",
       "    <tr>\n",
       "      <th>0</th>\n",
       "      <td>0.0</td>\n",
       "      <td>6.0</td>\n",
       "      <td>1</td>\n",
       "      <td>50.0</td>\n",
       "      <td>0.0</td>\n",
       "      <td>1.0</td>\n",
       "      <td>0.0</td>\n",
       "      <td>30.0</td>\n",
       "      <td>Perfil_2</td>\n",
       "      <td>0</td>\n",
       "      <td>0.0</td>\n",
       "      <td>0.0</td>\n",
       "      <td>0.0</td>\n",
       "      <td>80.0</td>\n",
       "    </tr>\n",
       "    <tr>\n",
       "      <th>1</th>\n",
       "      <td>5.0</td>\n",
       "      <td>3.0</td>\n",
       "      <td>0</td>\n",
       "      <td>30.0</td>\n",
       "      <td>4.0</td>\n",
       "      <td>30.0</td>\n",
       "      <td>0.0</td>\n",
       "      <td>30.0</td>\n",
       "      <td>Perfil_1</td>\n",
       "      <td>0</td>\n",
       "      <td>150.0</td>\n",
       "      <td>12.0</td>\n",
       "      <td>120.0</td>\n",
       "      <td>64.0</td>\n",
       "    </tr>\n",
       "    <tr>\n",
       "      <th>2</th>\n",
       "      <td>0.0</td>\n",
       "      <td>3.0</td>\n",
       "      <td>1</td>\n",
       "      <td>50.0</td>\n",
       "      <td>30.0</td>\n",
       "      <td>15.0</td>\n",
       "      <td>1.0</td>\n",
       "      <td>15.0</td>\n",
       "      <td>Perfil_4</td>\n",
       "      <td>0</td>\n",
       "      <td>0.0</td>\n",
       "      <td>90.0</td>\n",
       "      <td>450.0</td>\n",
       "      <td>95.0</td>\n",
       "    </tr>\n",
       "    <tr>\n",
       "      <th>3</th>\n",
       "      <td>5.0</td>\n",
       "      <td>3.0</td>\n",
       "      <td>0</td>\n",
       "      <td>30.0</td>\n",
       "      <td>7.0</td>\n",
       "      <td>30.0</td>\n",
       "      <td>0.0</td>\n",
       "      <td>30.0</td>\n",
       "      <td>Perfil_1</td>\n",
       "      <td>0</td>\n",
       "      <td>150.0</td>\n",
       "      <td>21.0</td>\n",
       "      <td>210.0</td>\n",
       "      <td>67.0</td>\n",
       "    </tr>\n",
       "    <tr>\n",
       "      <th>4</th>\n",
       "      <td>6.0</td>\n",
       "      <td>0.0</td>\n",
       "      <td>0</td>\n",
       "      <td>4.0</td>\n",
       "      <td>0.0</td>\n",
       "      <td>1.0</td>\n",
       "      <td>15.0</td>\n",
       "      <td>1.0</td>\n",
       "      <td>Perfil_3</td>\n",
       "      <td>1</td>\n",
       "      <td>24.0</td>\n",
       "      <td>0.0</td>\n",
       "      <td>0.0</td>\n",
       "      <td>5.0</td>\n",
       "    </tr>\n",
       "  </tbody>\n",
       "</table>\n",
       "</div>"
      ],
      "text/plain": [
       "   Anos_usando_internet_banking  Anos_usando_banca_movil  \\\n",
       "0                           0.0                      6.0   \n",
       "1                           5.0                      3.0   \n",
       "2                           0.0                      3.0   \n",
       "3                           5.0                      3.0   \n",
       "4                           6.0                      0.0   \n",
       "\n",
       "   Banca_movil_userfriendly  Frecuencia_internet_banking_mes  \\\n",
       "0                         1                             50.0   \n",
       "1                         0                             30.0   \n",
       "2                         1                             50.0   \n",
       "3                         0                             30.0   \n",
       "4                         0                              4.0   \n",
       "\n",
       "   Frecuencia_banca_movil_mes  Frecuencia_pagamentos_tarjeta_mes  \\\n",
       "0                         0.0                                1.0   \n",
       "1                         4.0                               30.0   \n",
       "2                        30.0                               15.0   \n",
       "3                         7.0                               30.0   \n",
       "4                         0.0                                1.0   \n",
       "\n",
       "   Frecuencia_tarjeta_virtual_mes  Frecuencia_saldo_cuenta_mes    TARGET  \\\n",
       "0                             0.0                         30.0  Perfil_2   \n",
       "1                             0.0                         30.0  Perfil_1   \n",
       "2                             1.0                         15.0  Perfil_4   \n",
       "3                             0.0                         30.0  Perfil_1   \n",
       "4                            15.0                          1.0  Perfil_3   \n",
       "\n",
       "   nulos  banking  banca_movil  ratio  ratio2  \n",
       "0      0      0.0          0.0    0.0    80.0  \n",
       "1      0    150.0         12.0  120.0    64.0  \n",
       "2      0      0.0         90.0  450.0    95.0  \n",
       "3      0    150.0         21.0  210.0    67.0  \n",
       "4      1     24.0          0.0    0.0     5.0  "
      ]
     },
     "execution_count": 619,
     "metadata": {},
     "output_type": "execute_result"
    }
   ],
   "source": [
    "df_training.head()"
   ]
  },
  {
   "cell_type": "markdown",
   "metadata": {},
   "source": [
    "# ¡Atención!\n",
    "\n",
    "La columna **TARGET** debe ser mantenida como una string. Usted no necesita procesar/codificar la variable objetivo."
   ]
  },
  {
   "cell_type": "markdown",
   "metadata": {},
   "source": [
    "<hr>"
   ]
  },
  {
   "cell_type": "markdown",
   "metadata": {},
   "source": [
    "## Entrenando un clasificador con base en un árbol de decisión"
   ]
  },
  {
   "cell_type": "markdown",
   "metadata": {},
   "source": [
    "### Selecionando FEATURES y definiendo la variable TARGET"
   ]
  },
  {
   "cell_type": "code",
   "execution_count": 681,
   "metadata": {},
   "outputs": [],
   "source": [
    "columnas=[x for x in df_training.columns if x not in ['TARGET']]\n",
    "features = df_training[columnas]\n",
    "target = df_training['TARGET']  ## No cambie esta variable"
   ]
  },
  {
   "cell_type": "code",
   "execution_count": 682,
   "metadata": {},
   "outputs": [
    {
     "data": {
      "text/plain": [
       "(22108,)"
      ]
     },
     "execution_count": 682,
     "metadata": {},
     "output_type": "execute_result"
    }
   ],
   "source": [
    "target.shape"
   ]
  },
  {
   "cell_type": "markdown",
   "metadata": {},
   "source": [
    "### Dividiendo el conjunto de datos en conjuntos de entrenamiento y pruebas"
   ]
  },
  {
   "cell_type": "code",
   "execution_count": 683,
   "metadata": {},
   "outputs": [],
   "source": [
    "from sklearn.model_selection import train_test_split\n",
    "\n",
    "\n",
    "X_train, X_test, y_train, y_test = train_test_split(features, target, test_size=0.33, random_state=133,stratify=target)"
   ]
  },
  {
   "cell_type": "code",
   "execution_count": 454,
   "metadata": {},
   "outputs": [],
   "source": [
    "from sklearn.utils import resample\n",
    "new=pd.concat([X_train,y_train],axis=1)\n",
    "perfil_0=new[new.TARGET=='Perfil_0']\n",
    "perfiles=new[new.TARGET!='Perfil_0']\n",
    "us = resample(perfil_0,\n",
    "                          replace=True, # sample with replacement\n",
    "                          n_samples=len(perfil_0)*2, # match number in majority class\n",
    "                          random_state=27)\n",
    "new2=pd.concat([us,perfiles],axis=0).sample(frac=1)\n",
    "X_train=new2.iloc[:,0:-1]\n",
    "y_train=new2.iloc[:,-1]"
   ]
  },
  {
   "cell_type": "code",
   "execution_count": 684,
   "metadata": {},
   "outputs": [],
   "source": [
    "X_train=X_train.astype('int')\n",
    "X_test=X_test.astype('int')"
   ]
  },
  {
   "cell_type": "code",
   "execution_count": 327,
   "metadata": {},
   "outputs": [],
   "source": [
    "from imblearn.over_sampling import SMOTE\n",
    "ib=SMOTE(random_state=123)\n",
    "X_train, y_train = ib.fit_resample(X_train, y_train)\n",
    "X_train=pd.DataFrame(data=X_train,columns=columnas)"
   ]
  },
  {
   "cell_type": "code",
   "execution_count": 422,
   "metadata": {},
   "outputs": [
    {
     "data": {
      "text/plain": [
       "Perfil_5    4164\n",
       "Perfil_4    4103\n",
       "Perfil_3    3335\n",
       "Perfil_2    2520\n",
       "Perfil_1    1436\n",
       "Perfil_0    1042\n",
       "Name: TARGET, dtype: int64"
      ]
     },
     "execution_count": 422,
     "metadata": {},
     "output_type": "execute_result"
    }
   ],
   "source": [
    "pd.Series(y_train).value_counts()"
   ]
  },
  {
   "cell_type": "markdown",
   "metadata": {},
   "source": [
    "### Entrenando un árbol de decisión"
   ]
  },
  {
   "cell_type": "code",
   "execution_count": 693,
   "metadata": {},
   "outputs": [],
   "source": [
    "# Método para creacion de modelos basados en arbol de desición\n",
    "columnas_cat=['Banca_movil_userfriendly','nulos']\n",
    "from sklearn.tree import DecisionTreeClassifier\n",
    "from catboost import CatBoostClassifier\n",
    "import lightgbm as lgb\n",
    "dtc=lgb.LGBMClassifier(n_estimators=100,learning_rate=0.1,max_depth=9,objective='multiclass',metric='multi_logloss',num_class=6).fit(X_train,y_train)\n",
    "#dtc=CatBoostClassifier(cat_features=columnas_cat,num_trees=1200,max_depth=8).fit(X_train,y_train)\n",
    "#dtc = DecisionTreeClassifier(max_depth=15).fit(X_train, y_train)"
   ]
  },
  {
   "cell_type": "code",
   "execution_count": 689,
   "metadata": {},
   "outputs": [
    {
     "name": "stderr",
     "output_type": "stream",
     "text": [
      "C:\\ProgramData\\Anaconda3\\lib\\site-packages\\sklearn\\model_selection\\_split.py:2053: FutureWarning: You should specify a value for 'cv' instead of relying on the default value. The default value will change from 3 to 5 in version 0.22.\n",
      "  warnings.warn(CV_WARNING, FutureWarning)\n"
     ]
    },
    {
     "name": "stdout",
     "output_type": "stream",
     "text": [
      "{'learning_rate': 0.1, 'max_depth': 9, 'n_estimators': 100}\n"
     ]
    },
    {
     "data": {
      "text/plain": [
       "LGBMClassifier(boosting_type='gbdt', class_weight=None, colsample_bytree=1.0,\n",
       "        importance_type='split', learning_rate=0.1, max_depth=9,\n",
       "        min_child_samples=20, min_child_weight=0.001, min_split_gain=0.0,\n",
       "        n_estimators=100, n_jobs=-1, num_leaves=31, objective=None,\n",
       "        random_state=None, reg_alpha=0.0, reg_lambda=0.0, silent=True,\n",
       "        subsample=1.0, subsample_for_bin=200000, subsample_freq=0)"
      ]
     },
     "execution_count": 689,
     "metadata": {},
     "output_type": "execute_result"
    }
   ],
   "source": [
    "g={'n_estimators':[100,500,200,700,1000],\n",
    "   'max_depth':[3,6,9,12],\n",
    "   'learning_rate':[0.5,0.3,0.1,0.01]\n",
    "}\n",
    "from sklearn.model_selection import GridSearchCV\n",
    "dtc=lgb.LGBMClassifier()\n",
    "gs=GridSearchCV(estimator=dtc,\n",
    "             param_grid=g)\n",
    "dtc=gs.fit(X_train,y_train)\n",
    "print(dtc.best_params_)\n",
    "dtc=dtc.best_estimator_\n",
    "dtc.fit(X_train,y_train)"
   ]
  },
  {
   "cell_type": "code",
   "execution_count": null,
   "metadata": {},
   "outputs": [],
   "source": []
  },
  {
   "cell_type": "markdown",
   "metadata": {},
   "source": [
    "### Haciendo predicciones en la muestra de prueba"
   ]
  },
  {
   "cell_type": "code",
   "execution_count": 690,
   "metadata": {},
   "outputs": [
    {
     "name": "stdout",
     "output_type": "stream",
     "text": [
      "['Perfil_1' 'Perfil_5' 'Perfil_5' ... 'Perfil_3' 'Perfil_5' 'Perfil_5']\n"
     ]
    }
   ],
   "source": [
    "y_pred = dtc.predict(X_test)\n",
    "print(y_pred)"
   ]
  },
  {
   "cell_type": "markdown",
   "metadata": {},
   "source": [
    "### Analizando la calidad del modelo a través de la matriz de confusión"
   ]
  },
  {
   "cell_type": "code",
   "execution_count": 691,
   "metadata": {},
   "outputs": [],
   "source": [
    "import matplotlib.pyplot as plt\n",
    "import numpy as np\n",
    "import itertools\n",
    "\n",
    "\n",
    "def plot_confusion_matrix(cm, target_names, title='Confusion matrix', cmap=None, normalize=True):\n",
    "    accuracy = np.trace(cm) / float(np.sum(cm))\n",
    "    misclass = 1 - accuracy\n",
    "    if cmap is None:\n",
    "        cmap = plt.get_cmap('Blues')\n",
    "    plt.figure(figsize=(8, 6))\n",
    "    plt.imshow(cm, interpolation='nearest', cmap=cmap)\n",
    "    plt.title(title)\n",
    "    plt.colorbar()\n",
    "    if target_names is not None:\n",
    "        tick_marks = np.arange(len(target_names))\n",
    "        plt.xticks(tick_marks, target_names, rotation=45)\n",
    "        plt.yticks(tick_marks, target_names)\n",
    "    if normalize:\n",
    "        cm = cm.astype('float') / cm.sum(axis=1)[:, np.newaxis]\n",
    "    thresh = cm.max() / 1.5 if normalize else cm.max() / 2\n",
    "    for i, j in itertools.product(range(cm.shape[0]), range(cm.shape[1])):\n",
    "        if normalize:\n",
    "            plt.text(j, i, \"{:0.2f}\".format(cm[i, j]),\n",
    "                     horizontalalignment=\"center\",\n",
    "                     color=\"white\" if cm[i, j] > thresh else \"black\")\n",
    "        else:\n",
    "            plt.text(j, i, \"{:,}\".format(cm[i, j]),\n",
    "                     horizontalalignment=\"center\",\n",
    "                     color=\"white\" if cm[i, j] > thresh else \"black\")\n",
    "    plt.tight_layout()\n",
    "    plt.ylabel('True label')\n",
    "    plt.xlabel('Predicted label\\naccuracy={:0.4f}; misclass={:0.4f}'.format(accuracy, misclass))\n",
    "    plt.show()"
   ]
  },
  {
   "cell_type": "code",
   "execution_count": 692,
   "metadata": {},
   "outputs": [
    {
     "data": {
      "image/png": "[encoded data removed]",
      "text/plain": [
       "<Figure size 576x432 with 2 Axes>"
      ]
     },
     "metadata": {
      "needs_background": "light"
     },
     "output_type": "display_data"
    }
   ],
   "source": [
    "from sklearn.metrics import confusion_matrix\n",
    "\n",
    "\n",
    "plot_confusion_matrix(confusion_matrix(y_test, y_pred), ['perfil0', 'perfil1', 'perfil2', 'perfil3', 'perfil4', 'perfil5'])"
   ]
  },
  {
   "cell_type": "code",
   "execution_count": 635,
   "metadata": {},
   "outputs": [
    {
     "data": {
      "image/png": "[encoded data removed]",
      "text/plain": [
       "<Figure size 432x288 with 1 Axes>"
      ]
     },
     "metadata": {
      "needs_background": "light"
     },
     "output_type": "display_data"
    }
   ],
   "source": [
    "importances = dtc.feature_importances_\n",
    "indices = np.argsort(importances)\n",
    "plt.figure()\n",
    "plt.title(\"Feature importances\")\n",
    "plt.barh(range(X_train.shape[1]), importances[indices],\n",
    "       align=\"center\")\n",
    "# If you want to define your own labels,\n",
    "# change indices to a list of labels on the following line.\n",
    "plt.yticks(range(X_train.shape[1]), X_train.columns[indices])\n",
    "plt.ylim([-1, X_train.shape[1]])\n",
    "plt.show()"
   ]
  },
  {
   "cell_type": "markdown",
   "metadata": {},
   "source": [
    "<hr>"
   ]
  },
  {
   "cell_type": "markdown",
   "metadata": {},
   "source": [
    "## Scoring de los datos necesarios para entregar la solución"
   ]
  },
  {
   "cell_type": "markdown",
   "metadata": {},
   "source": [
    "Como entrega de su solución, esperamos los resultados clasificados del seguiente dataset llamado \"to_be_scored.csv\":"
   ]
  },
  {
   "cell_type": "markdown",
   "metadata": {},
   "source": [
    "### Download la \"Hoja de evaluación\""
   ]
  },
  {
   "cell_type": "code",
   "execution_count": null,
   "metadata": {
    "scrolled": false
   },
   "outputs": [],
   "source": [
    "!wget --no-check-certificate --content-disposition https://gitlab.com/JoaoPedroPP/datasets/-/raw/master/to_be_scored.csv\n",
    "df_to_be_scored = pd.read_csv(r'to_be_scored.csv')\n",
    "df_to_be_scored.tail()"
   ]
  },
  {
   "cell_type": "markdown",
   "metadata": {},
   "source": [
    "# ¡Atención!\n",
    "\n",
    "El dataframe ``to_be_scored`` en su \"hoja de evaluación\". Note que la columna \"categoria\" no existe en esta muetra, por lo que no puede ser utilizada para entrenar modelos supervisados"
   ]
  },
  {
   "cell_type": "code",
   "execution_count": null,
   "metadata": {
    "scrolled": true
   },
   "outputs": [],
   "source": [
    "df_to_be_scored.info()"
   ]
  },
  {
   "cell_type": "markdown",
   "metadata": {},
   "source": [
    "<hr>\n",
    "\n",
    "# ¡Atención!\n",
    "\n",
    "# Para poder aplicar su modelo y clasificar la hoja de evaluación, usted debe aplicar primero todas las transformaciones de columna que usted aplico en el dataset de entrenamiento.\n",
    "\n",
    "# No remueva o adicione filas en la hoja de evaluación. \n",
    "\n",
    "# No altere el orden de las filas en la hoja de evaluación. \n",
    "\n",
    "# Al final, las 1000 entradas deben estar clasificadas, con los valores calculados en una columna llamada \"target\"\n",
    "\n",
    "<hr>"
   ]
  },
  {
   "cell_type": "markdown",
   "metadata": {},
   "source": [
    "En la celda de abajo, repetimos rapidamente los mismos pasos de pré-procesamiento usados en el ejemplo dado con árbol de decisión"
   ]
  },
  {
   "cell_type": "code",
   "execution_count": null,
   "metadata": {},
   "outputs": [],
   "source": [
    "# 1 - Removiendo filas con valores NaN \n",
    "df_to_be_scored_1 = df_to_be_scored.dropna(axis='index', how='any', subset=['Genero', 'Años', 'Estado_civil', 'Trabajo', 'Sector', 'Telefono', 'Anos_usando_internet_banking', 'Anos_usando_banca_movil', 'Frecuencia_internet_banking_mes', 'Frecuencia_banca_movil_mes', 'Frecuencia_pagamentos_tarjeta_mes', 'Frecuencia_tarjeta_virtual_mes', 'Frecuencia_saldo_cuenta_mes'])\n",
    "\n",
    "# 2 - Reemplazando con ceros los valores faltantes\n",
    "impute_zeros.fit(X=df_to_be_scored_1)\n",
    "df_to_be_scored_2 = pd.DataFrame.from_records(\n",
    "    data=impute_zeros.transform(\n",
    "        X=df_to_be_scored_1\n",
    "    ),\n",
    "    columns=df_to_be_scored_1.columns\n",
    ")\n",
    "\n",
    "# 3 - Remoción de columnas\n",
    "df_to_be_scored_3 = df_to_be_scored_2.drop(columns=['ID', 'Genero', 'Estado_civil', 'Trabajo', 'Sector', 'Telefono'], inplace=False)\n",
    "\n",
    "# 4 - Encoding con \"dummy variables\"\n",
    "df_to_be_scored_4 = pd.get_dummies(df_to_be_scored_3, columns=['Banca_movil_userfriendly'])\n",
    "\n",
    "df_to_be_scored_4.tail()"
   ]
  },
  {
   "cell_type": "markdown",
   "metadata": {},
   "source": [
    "<hr>\n",
    "\n",
    "Puede verificar abajo que las columnas de la hoja de evaluación son identicas a las usadas para entrenar el modelo:"
   ]
  },
  {
   "cell_type": "code",
   "execution_count": null,
   "metadata": {},
   "outputs": [],
   "source": [
    "df_training[\n",
    "    [\n",
    "        'Años', 'Anos_usando_internet_banking', 'Anos_usando_banca_movil',\n",
    "       'Frecuencia_internet_banking_mes', 'Frecuencia_banca_movil_mes',\n",
    "       'Frecuencia_pagamentos_tarjeta_mes', 'Frecuencia_tarjeta_virtual_mes',\n",
    "       'Frecuencia_saldo_cuenta_mes', 'Banca_movil_userfriendly_No',\n",
    "       'Banca_movil_userfriendly_Si'\n",
    "    ]\n",
    "].columns"
   ]
  },
  {
   "cell_type": "code",
   "execution_count": null,
   "metadata": {},
   "outputs": [],
   "source": [
    "df_to_be_scored_4.columns"
   ]
  },
  {
   "cell_type": "markdown",
   "metadata": {},
   "source": [
    "# Atención\n",
    "\n",
    "Para todas las columnas que no existiren en \"df_to_be_scored\", usted puede usar la tecnica de abajo para adicionarla:"
   ]
  },
  {
   "cell_type": "code",
   "execution_count": null,
   "metadata": {},
   "outputs": [],
   "source": [
    "df_to_be_scored_4['Banca_movil_userfriendly_No'] = 0"
   ]
  },
  {
   "cell_type": "code",
   "execution_count": null,
   "metadata": {
    "scrolled": false
   },
   "outputs": [],
   "source": [
    "y_pred = dtc.predict(df_to_be_scored_4)\n",
    "df_to_be_scored_4['TARGET'] = y_pred\n",
    "df_to_be_scored_4.tail()"
   ]
  },
  {
   "cell_type": "markdown",
   "metadata": {},
   "source": [
    "### Guardando la hoja de evaluacion como un archivo .csv para ser enviado\n",
    "**SI YA TIENE UN DATA ASSET CON EL NOMBRE results.csv EN ESTE PROYECTO O EN OTRO PROYECTO DE WATSON STUDIO DEBE BORRAR EL ARCHIVO ANTES DE CORRER LA SIGUIENTE CELDA O TENDRA EL ERROR: _RuntimeError: File 'results.csv' already exists in storage._**"
   ]
  },
  {
   "cell_type": "code",
   "execution_count": null,
   "metadata": {},
   "outputs": [],
   "source": [
    "project.save_data(file_name=\"results.csv\", data=df_to_be_scored_4.to_csv(index=False))"
   ]
  },
  {
   "cell_type": "markdown",
   "metadata": {},
   "source": [
    "# ATENCIÓN\n",
    "\n",
    "# La ejecución de la celda anterior creará un nuevo \"data asset\" en su proyecto de Watson Studio. Deberá descargar este archivo junto con este cuaderno y crear un archivo zip con results.csv y notebook.ipynb para enviarlo. (los archivos deben tener este nombre)"
   ]
  },
  {
   "cell_type": "markdown",
   "metadata": {},
   "source": [
    "<hr>\n",
    "\n",
    "## ¡Felicitaciones!\n",
    "Si ya está satisfecho con su solución, vaya a la página siguiente y envíe los archivos necesarios para su envío.\n",
    "\n",
    "# https://bancoppel.maratona.dev\n"
   ]
  },
  {
   "cell_type": "code",
   "execution_count": null,
   "metadata": {},
   "outputs": [],
   "source": []
  }
 ],
 "metadata": {
  "kernelspec": {
   "display_name": "Python 3",
   "language": "python",
   "name": "python3"
  },
  "language_info": {
   "codemirror_mode": {
    "name": "ipython",
    "version": 3
   },
   "file_extension": ".py",
   "mimetype": "text/x-python",
   "name": "python",
   "nbconvert_exporter": "python",
   "pygments_lexer": "ipython3",
   "version": "3.7.3"
  }
 },
 "nbformat": 4,
 "nbformat_minor": 1
}
